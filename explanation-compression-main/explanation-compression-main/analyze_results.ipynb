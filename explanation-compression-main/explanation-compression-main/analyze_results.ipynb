{
 "cells": [
  {
   "cell_type": "markdown",
   "metadata": {},
   "source": [
    "## exp1_diabetes"
   ]
  },
  {
   "cell_type": "code",
   "execution_count": 5,
   "metadata": {},
   "outputs": [],
   "source": [
    "import pandas as pd\n",
    "import numpy as np\n",
    "import matplotlib.pyplot as plt\n",
    "from scipy.stats import ttest_ind\n",
    "\n",
    "\n",
    "def analyze_1d(x):\n",
    "    _ = plt.hist(x)\n",
    "    print(f'freq diff > 0: {np.mean(x > 0)}')\n",
    "    "
   ]
  },
  {
   "cell_type": "code",
   "execution_count": 2,
   "metadata": {},
   "outputs": [],
   "source": [
    "data = pd.read_csv(\"results/exp1_diabetes.csv\")"
   ]
  },
  {
   "cell_type": "code",
   "execution_count": 4,
   "metadata": {},
   "outputs": [
    {
     "data": {
      "text/plain": [
       "0.2844071410177252"
      ]
     },
     "execution_count": 4,
     "metadata": {},
     "output_type": "execute_result"
    }
   ],
   "source": [
    "(data.time_kt / data.time_sv_diff).mean()"
   ]
  },
  {
   "cell_type": "code",
   "execution_count": 5,
   "metadata": {},
   "outputs": [
    {
     "data": {
      "text/plain": [
       "-2.633406202035249"
      ]
     },
     "execution_count": 5,
     "metadata": {},
     "output_type": "execute_result"
    }
   ],
   "source": [
    "(data.time_kt / data.time_pvi_diff).mean()"
   ]
  },
  {
   "cell_type": "code",
   "execution_count": 6,
   "metadata": {},
   "outputs": [
    {
     "data": {
      "text/plain": [
       "8.57873888765023"
      ]
     },
     "execution_count": 6,
     "metadata": {},
     "output_type": "execute_result"
    }
   ],
   "source": [
    "(data.time_kt / data.time_pdp_diff).mean()"
   ]
  },
  {
   "cell_type": "code",
   "execution_count": 6,
   "metadata": {},
   "outputs": [
    {
     "data": {
      "text/html": [
       "<div>\n",
       "<style scoped>\n",
       "    .dataframe tbody tr th:only-of-type {\n",
       "        vertical-align: middle;\n",
       "    }\n",
       "\n",
       "    .dataframe tbody tr th {\n",
       "        vertical-align: top;\n",
       "    }\n",
       "\n",
       "    .dataframe thead th {\n",
       "        text-align: right;\n",
       "    }\n",
       "</style>\n",
       "<table border=\"1\" class=\"dataframe\">\n",
       "  <thead>\n",
       "    <tr style=\"text-align: right;\">\n",
       "      <th></th>\n",
       "      <th>model_performance</th>\n",
       "      <th>wd_random</th>\n",
       "      <th>wd_compressed</th>\n",
       "      <th>wd_diff</th>\n",
       "      <th>svi_random</th>\n",
       "      <th>svi_compressed</th>\n",
       "      <th>svi_diff</th>\n",
       "      <th>sv_wd_random</th>\n",
       "      <th>sv_wd_compressed</th>\n",
       "      <th>sv_wd_diff</th>\n",
       "      <th>pvi_random</th>\n",
       "      <th>pvi_compressed</th>\n",
       "      <th>pvi_diff</th>\n",
       "      <th>pdp_random</th>\n",
       "      <th>pdp_compressed</th>\n",
       "      <th>pdp_diff</th>\n",
       "      <th>time_kt</th>\n",
       "      <th>time_sv_diff</th>\n",
       "      <th>time_pvi_diff</th>\n",
       "      <th>time_pdp_diff</th>\n",
       "    </tr>\n",
       "  </thead>\n",
       "  <tbody>\n",
       "    <tr>\n",
       "      <th>0</th>\n",
       "      <td>0.990279</td>\n",
       "      <td>0.065939</td>\n",
       "      <td>0.042071</td>\n",
       "      <td>0.023868</td>\n",
       "      <td>10.589498</td>\n",
       "      <td>7.536268</td>\n",
       "      <td>3.053230</td>\n",
       "      <td>26.447304</td>\n",
       "      <td>23.288636</td>\n",
       "      <td>3.158668</td>\n",
       "      <td>17.508942</td>\n",
       "      <td>7.530155</td>\n",
       "      <td>9.978787</td>\n",
       "      <td>638.816650</td>\n",
       "      <td>95.878530</td>\n",
       "      <td>542.938100</td>\n",
       "      <td>0.126789</td>\n",
       "      <td>0.638243</td>\n",
       "      <td>0.020415</td>\n",
       "      <td>0.028958</td>\n",
       "    </tr>\n",
       "    <tr>\n",
       "      <th>1</th>\n",
       "      <td>0.990279</td>\n",
       "      <td>0.063245</td>\n",
       "      <td>0.054172</td>\n",
       "      <td>0.009073</td>\n",
       "      <td>12.692278</td>\n",
       "      <td>9.605532</td>\n",
       "      <td>3.086746</td>\n",
       "      <td>26.599346</td>\n",
       "      <td>23.403902</td>\n",
       "      <td>3.195444</td>\n",
       "      <td>14.946704</td>\n",
       "      <td>7.566158</td>\n",
       "      <td>7.380546</td>\n",
       "      <td>333.879520</td>\n",
       "      <td>404.968200</td>\n",
       "      <td>-71.088684</td>\n",
       "      <td>0.125651</td>\n",
       "      <td>0.638254</td>\n",
       "      <td>0.012027</td>\n",
       "      <td>0.028948</td>\n",
       "    </tr>\n",
       "    <tr>\n",
       "      <th>2</th>\n",
       "      <td>0.990279</td>\n",
       "      <td>0.059225</td>\n",
       "      <td>0.038109</td>\n",
       "      <td>0.021116</td>\n",
       "      <td>8.236285</td>\n",
       "      <td>8.630741</td>\n",
       "      <td>-0.394456</td>\n",
       "      <td>25.578314</td>\n",
       "      <td>21.979740</td>\n",
       "      <td>3.598574</td>\n",
       "      <td>19.016788</td>\n",
       "      <td>11.385891</td>\n",
       "      <td>7.630897</td>\n",
       "      <td>167.705250</td>\n",
       "      <td>151.262970</td>\n",
       "      <td>16.442276</td>\n",
       "      <td>0.132905</td>\n",
       "      <td>0.635539</td>\n",
       "      <td>0.025892</td>\n",
       "      <td>0.028959</td>\n",
       "    </tr>\n",
       "    <tr>\n",
       "      <th>3</th>\n",
       "      <td>0.990279</td>\n",
       "      <td>0.073999</td>\n",
       "      <td>0.038636</td>\n",
       "      <td>0.035363</td>\n",
       "      <td>15.305691</td>\n",
       "      <td>8.029796</td>\n",
       "      <td>7.275895</td>\n",
       "      <td>27.564967</td>\n",
       "      <td>21.239150</td>\n",
       "      <td>6.325817</td>\n",
       "      <td>17.667159</td>\n",
       "      <td>19.569890</td>\n",
       "      <td>-1.902732</td>\n",
       "      <td>861.706670</td>\n",
       "      <td>82.196990</td>\n",
       "      <td>779.509640</td>\n",
       "      <td>0.151659</td>\n",
       "      <td>0.638249</td>\n",
       "      <td>0.024093</td>\n",
       "      <td>0.028948</td>\n",
       "    </tr>\n",
       "    <tr>\n",
       "      <th>4</th>\n",
       "      <td>0.990279</td>\n",
       "      <td>0.061651</td>\n",
       "      <td>0.041167</td>\n",
       "      <td>0.020484</td>\n",
       "      <td>11.752993</td>\n",
       "      <td>8.175258</td>\n",
       "      <td>3.577735</td>\n",
       "      <td>24.594663</td>\n",
       "      <td>22.848097</td>\n",
       "      <td>1.746566</td>\n",
       "      <td>10.262414</td>\n",
       "      <td>12.622900</td>\n",
       "      <td>-2.360486</td>\n",
       "      <td>78.549260</td>\n",
       "      <td>164.703570</td>\n",
       "      <td>-86.154305</td>\n",
       "      <td>0.135602</td>\n",
       "      <td>0.638253</td>\n",
       "      <td>0.024255</td>\n",
       "      <td>0.028958</td>\n",
       "    </tr>\n",
       "    <tr>\n",
       "      <th>...</th>\n",
       "      <td>...</td>\n",
       "      <td>...</td>\n",
       "      <td>...</td>\n",
       "      <td>...</td>\n",
       "      <td>...</td>\n",
       "      <td>...</td>\n",
       "      <td>...</td>\n",
       "      <td>...</td>\n",
       "      <td>...</td>\n",
       "      <td>...</td>\n",
       "      <td>...</td>\n",
       "      <td>...</td>\n",
       "      <td>...</td>\n",
       "      <td>...</td>\n",
       "      <td>...</td>\n",
       "      <td>...</td>\n",
       "      <td>...</td>\n",
       "      <td>...</td>\n",
       "      <td>...</td>\n",
       "      <td>...</td>\n",
       "    </tr>\n",
       "    <tr>\n",
       "      <th>96</th>\n",
       "      <td>0.990279</td>\n",
       "      <td>0.071099</td>\n",
       "      <td>0.044932</td>\n",
       "      <td>0.026167</td>\n",
       "      <td>10.496438</td>\n",
       "      <td>10.269127</td>\n",
       "      <td>0.227311</td>\n",
       "      <td>25.307469</td>\n",
       "      <td>26.257648</td>\n",
       "      <td>-0.950179</td>\n",
       "      <td>18.416143</td>\n",
       "      <td>20.907308</td>\n",
       "      <td>-2.491165</td>\n",
       "      <td>497.827820</td>\n",
       "      <td>124.466415</td>\n",
       "      <td>373.361400</td>\n",
       "      <td>0.164124</td>\n",
       "      <td>0.638247</td>\n",
       "      <td>-0.036056</td>\n",
       "      <td>0.028959</td>\n",
       "    </tr>\n",
       "    <tr>\n",
       "      <th>97</th>\n",
       "      <td>0.990279</td>\n",
       "      <td>0.082939</td>\n",
       "      <td>0.055415</td>\n",
       "      <td>0.027524</td>\n",
       "      <td>11.532917</td>\n",
       "      <td>9.062806</td>\n",
       "      <td>2.470112</td>\n",
       "      <td>25.659171</td>\n",
       "      <td>23.249413</td>\n",
       "      <td>2.409757</td>\n",
       "      <td>18.808826</td>\n",
       "      <td>15.094979</td>\n",
       "      <td>3.713847</td>\n",
       "      <td>336.420170</td>\n",
       "      <td>107.761505</td>\n",
       "      <td>228.658660</td>\n",
       "      <td>0.167125</td>\n",
       "      <td>0.622416</td>\n",
       "      <td>-0.036010</td>\n",
       "      <td>0.018801</td>\n",
       "    </tr>\n",
       "    <tr>\n",
       "      <th>98</th>\n",
       "      <td>0.990279</td>\n",
       "      <td>0.076635</td>\n",
       "      <td>0.041436</td>\n",
       "      <td>0.035199</td>\n",
       "      <td>12.905629</td>\n",
       "      <td>7.952166</td>\n",
       "      <td>4.953463</td>\n",
       "      <td>25.388776</td>\n",
       "      <td>23.463083</td>\n",
       "      <td>1.925693</td>\n",
       "      <td>15.247587</td>\n",
       "      <td>16.225273</td>\n",
       "      <td>-0.977687</td>\n",
       "      <td>82.229996</td>\n",
       "      <td>123.593860</td>\n",
       "      <td>-41.363860</td>\n",
       "      <td>0.173729</td>\n",
       "      <td>0.616598</td>\n",
       "      <td>-0.037206</td>\n",
       "      <td>0.028959</td>\n",
       "    </tr>\n",
       "    <tr>\n",
       "      <th>99</th>\n",
       "      <td>0.990279</td>\n",
       "      <td>0.062273</td>\n",
       "      <td>0.045449</td>\n",
       "      <td>0.016824</td>\n",
       "      <td>8.196018</td>\n",
       "      <td>7.095873</td>\n",
       "      <td>1.100145</td>\n",
       "      <td>22.057648</td>\n",
       "      <td>22.563159</td>\n",
       "      <td>-0.505510</td>\n",
       "      <td>12.738890</td>\n",
       "      <td>6.768860</td>\n",
       "      <td>5.970030</td>\n",
       "      <td>398.957060</td>\n",
       "      <td>86.796410</td>\n",
       "      <td>312.160640</td>\n",
       "      <td>0.185726</td>\n",
       "      <td>0.622627</td>\n",
       "      <td>-0.044599</td>\n",
       "      <td>0.017980</td>\n",
       "    </tr>\n",
       "    <tr>\n",
       "      <th>100</th>\n",
       "      <td>0.990279</td>\n",
       "      <td>0.086538</td>\n",
       "      <td>0.040736</td>\n",
       "      <td>0.045802</td>\n",
       "      <td>12.888216</td>\n",
       "      <td>11.435718</td>\n",
       "      <td>1.452498</td>\n",
       "      <td>28.830532</td>\n",
       "      <td>21.810349</td>\n",
       "      <td>7.020183</td>\n",
       "      <td>13.327382</td>\n",
       "      <td>11.623834</td>\n",
       "      <td>1.703548</td>\n",
       "      <td>594.388700</td>\n",
       "      <td>79.736080</td>\n",
       "      <td>514.652600</td>\n",
       "      <td>0.166435</td>\n",
       "      <td>0.638242</td>\n",
       "      <td>-0.025062</td>\n",
       "      <td>0.022331</td>\n",
       "    </tr>\n",
       "  </tbody>\n",
       "</table>\n",
       "<p>101 rows × 20 columns</p>\n",
       "</div>"
      ],
      "text/plain": [
       "     model_performance  wd_random  wd_compressed   wd_diff  svi_random  \\\n",
       "0             0.990279   0.065939       0.042071  0.023868   10.589498   \n",
       "1             0.990279   0.063245       0.054172  0.009073   12.692278   \n",
       "2             0.990279   0.059225       0.038109  0.021116    8.236285   \n",
       "3             0.990279   0.073999       0.038636  0.035363   15.305691   \n",
       "4             0.990279   0.061651       0.041167  0.020484   11.752993   \n",
       "..                 ...        ...            ...       ...         ...   \n",
       "96            0.990279   0.071099       0.044932  0.026167   10.496438   \n",
       "97            0.990279   0.082939       0.055415  0.027524   11.532917   \n",
       "98            0.990279   0.076635       0.041436  0.035199   12.905629   \n",
       "99            0.990279   0.062273       0.045449  0.016824    8.196018   \n",
       "100           0.990279   0.086538       0.040736  0.045802   12.888216   \n",
       "\n",
       "     svi_compressed  svi_diff  sv_wd_random  sv_wd_compressed  sv_wd_diff  \\\n",
       "0          7.536268  3.053230     26.447304         23.288636    3.158668   \n",
       "1          9.605532  3.086746     26.599346         23.403902    3.195444   \n",
       "2          8.630741 -0.394456     25.578314         21.979740    3.598574   \n",
       "3          8.029796  7.275895     27.564967         21.239150    6.325817   \n",
       "4          8.175258  3.577735     24.594663         22.848097    1.746566   \n",
       "..              ...       ...           ...               ...         ...   \n",
       "96        10.269127  0.227311     25.307469         26.257648   -0.950179   \n",
       "97         9.062806  2.470112     25.659171         23.249413    2.409757   \n",
       "98         7.952166  4.953463     25.388776         23.463083    1.925693   \n",
       "99         7.095873  1.100145     22.057648         22.563159   -0.505510   \n",
       "100       11.435718  1.452498     28.830532         21.810349    7.020183   \n",
       "\n",
       "     pvi_random  pvi_compressed  pvi_diff  pdp_random  pdp_compressed  \\\n",
       "0     17.508942        7.530155  9.978787  638.816650       95.878530   \n",
       "1     14.946704        7.566158  7.380546  333.879520      404.968200   \n",
       "2     19.016788       11.385891  7.630897  167.705250      151.262970   \n",
       "3     17.667159       19.569890 -1.902732  861.706670       82.196990   \n",
       "4     10.262414       12.622900 -2.360486   78.549260      164.703570   \n",
       "..          ...             ...       ...         ...             ...   \n",
       "96    18.416143       20.907308 -2.491165  497.827820      124.466415   \n",
       "97    18.808826       15.094979  3.713847  336.420170      107.761505   \n",
       "98    15.247587       16.225273 -0.977687   82.229996      123.593860   \n",
       "99    12.738890        6.768860  5.970030  398.957060       86.796410   \n",
       "100   13.327382       11.623834  1.703548  594.388700       79.736080   \n",
       "\n",
       "       pdp_diff   time_kt  time_sv_diff  time_pvi_diff  time_pdp_diff  \n",
       "0    542.938100  0.126789      0.638243       0.020415       0.028958  \n",
       "1    -71.088684  0.125651      0.638254       0.012027       0.028948  \n",
       "2     16.442276  0.132905      0.635539       0.025892       0.028959  \n",
       "3    779.509640  0.151659      0.638249       0.024093       0.028948  \n",
       "4    -86.154305  0.135602      0.638253       0.024255       0.028958  \n",
       "..          ...       ...           ...            ...            ...  \n",
       "96   373.361400  0.164124      0.638247      -0.036056       0.028959  \n",
       "97   228.658660  0.167125      0.622416      -0.036010       0.018801  \n",
       "98   -41.363860  0.173729      0.616598      -0.037206       0.028959  \n",
       "99   312.160640  0.185726      0.622627      -0.044599       0.017980  \n",
       "100  514.652600  0.166435      0.638242      -0.025062       0.022331  \n",
       "\n",
       "[101 rows x 20 columns]"
      ]
     },
     "execution_count": 6,
     "metadata": {},
     "output_type": "execute_result"
    }
   ],
   "source": [
    "data"
   ]
  },
  {
   "cell_type": "code",
   "execution_count": 16,
   "metadata": {},
   "outputs": [
    {
     "data": {
      "text/html": [
       "<div>\n",
       "<style scoped>\n",
       "    .dataframe tbody tr th:only-of-type {\n",
       "        vertical-align: middle;\n",
       "    }\n",
       "\n",
       "    .dataframe tbody tr th {\n",
       "        vertical-align: top;\n",
       "    }\n",
       "\n",
       "    .dataframe thead th {\n",
       "        text-align: right;\n",
       "    }\n",
       "</style>\n",
       "<table border=\"1\" class=\"dataframe\">\n",
       "  <thead>\n",
       "    <tr style=\"text-align: right;\">\n",
       "      <th></th>\n",
       "      <th>0</th>\n",
       "      <th>1</th>\n",
       "      <th>2</th>\n",
       "      <th>3</th>\n",
       "      <th>4</th>\n",
       "    </tr>\n",
       "  </thead>\n",
       "  <tbody>\n",
       "    <tr>\n",
       "      <th>0</th>\n",
       "      <td>wd</td>\n",
       "      <td>svi</td>\n",
       "      <td>sv_wd</td>\n",
       "      <td>pvi</td>\n",
       "      <td>pdp</td>\n",
       "    </tr>\n",
       "    <tr>\n",
       "      <th>1</th>\n",
       "      <td>0.0</td>\n",
       "      <td>0.0</td>\n",
       "      <td>0.0</td>\n",
       "      <td>0.005779</td>\n",
       "      <td>0.000002</td>\n",
       "    </tr>\n",
       "  </tbody>\n",
       "</table>\n",
       "</div>"
      ],
      "text/plain": [
       "     0    1      2         3         4\n",
       "0   wd  svi  sv_wd       pvi       pdp\n",
       "1  0.0  0.0    0.0  0.005779  0.000002"
      ]
     },
     "execution_count": 16,
     "metadata": {},
     "output_type": "execute_result"
    }
   ],
   "source": [
    "pd.DataFrame(data = [['wd','svi','sv_wd', 'pvi', 'pdp'],[ttest_ind(data[y+'_compressed'], data[y+'_random'], equal_var=False, alternative='less').pvalue for y in ['wd','svi','sv_wd', 'pvi', 'pdp']]])"
   ]
  },
  {
   "cell_type": "code",
   "execution_count": 5,
   "metadata": {},
   "outputs": [
    {
     "name": "stdout",
     "output_type": "stream",
     "text": [
      "freq diff > 0: 1.0\n",
      "nan\n"
     ]
    },
    {
     "name": "stderr",
     "output_type": "stream",
     "text": [
      "c:\\Users\\ppaul\\AppData\\Local\\Programs\\Python\\Python310\\lib\\site-packages\\numpy\\core\\fromnumeric.py:3723: RuntimeWarning: Degrees of freedom <= 0 for slice\n",
      "  return _methods._var(a, axis=axis, dtype=dtype, out=out, ddof=ddof,\n",
      "c:\\Users\\ppaul\\AppData\\Local\\Programs\\Python\\Python310\\lib\\site-packages\\numpy\\core\\_methods.py:254: RuntimeWarning: invalid value encountered in double_scalars\n",
      "  ret = ret.dtype.type(ret / rcount)\n"
     ]
    },
    {
     "data": {
      "image/png": "[encoded data removed]",
      "text/plain": [
       "<Figure size 432x288 with 1 Axes>"
      ]
     },
     "metadata": {
      "needs_background": "light"
     },
     "output_type": "display_data"
    }
   ],
   "source": [
    "analyze_1d(data.wd_diff)"
   ]
  },
  {
   "cell_type": "code",
   "execution_count": 89,
   "metadata": {},
   "outputs": [
    {
     "name": "stdout",
     "output_type": "stream",
     "text": [
      "freq diff > 0: 0.693069306930693\n"
     ]
    },
    {
     "data": {
      "image/png": "[encoded data removed]",
      "text/plain": [
       "<Figure size 432x288 with 1 Axes>"
      ]
     },
     "metadata": {
      "needs_background": "light"
     },
     "output_type": "display_data"
    }
   ],
   "source": [
    "analyze_1d(data.svi_diff) # 1d"
   ]
  },
  {
   "cell_type": "code",
   "execution_count": 90,
   "metadata": {},
   "outputs": [
    {
     "name": "stdout",
     "output_type": "stream",
     "text": [
      "freq diff > 0: 0.8316831683168316\n"
     ]
    },
    {
     "data": {
      "image/png": "[encoded data removed]",
      "text/plain": [
       "<Figure size 432x288 with 1 Axes>"
      ]
     },
     "metadata": {
      "needs_background": "light"
     },
     "output_type": "display_data"
    }
   ],
   "source": [
    "analyze_1d(data.sv_wd_diff) # 2d"
   ]
  },
  {
   "cell_type": "code",
   "execution_count": 91,
   "metadata": {},
   "outputs": [
    {
     "name": "stdout",
     "output_type": "stream",
     "text": [
      "freq diff > 0: 0.594059405940594\n"
     ]
    },
    {
     "data": {
      "image/png": "[encoded data removed]",
      "text/plain": [
       "<Figure size 432x288 with 1 Axes>"
      ]
     },
     "metadata": {
      "needs_background": "light"
     },
     "output_type": "display_data"
    }
   ],
   "source": [
    "analyze_1d(data.pvi_diff)"
   ]
  },
  {
   "cell_type": "code",
   "execution_count": 92,
   "metadata": {},
   "outputs": [
    {
     "name": "stdout",
     "output_type": "stream",
     "text": [
      "freq diff > 0: 0.6732673267326733\n"
     ]
    },
    {
     "data": {
      "image/png": "[encoded data removed]",
      "text/plain": [
       "<Figure size 432x288 with 1 Axes>"
      ]
     },
     "metadata": {
      "needs_background": "light"
     },
     "output_type": "display_data"
    }
   ],
   "source": [
    "analyze_1d(data.pdp_diff)"
   ]
  },
  {
   "cell_type": "markdown",
   "metadata": {},
   "source": [
    "## exp2_bank"
   ]
  },
  {
   "cell_type": "code",
   "execution_count": 1,
   "metadata": {},
   "outputs": [],
   "source": [
    "import pandas as pd\n",
    "import numpy as np\n",
    "import matplotlib.pyplot as plt\n",
    "\n",
    "def analyze_1d(x):\n",
    "    _ = plt.hist(x)\n",
    "    print(f'freq diff > 0: {np.mean(x > 0)}')"
   ]
  },
  {
   "cell_type": "code",
   "execution_count": 2,
   "metadata": {},
   "outputs": [],
   "source": [
    "data = pd.read_csv(\"results/exp2_bank.csv\")"
   ]
  },
  {
   "cell_type": "code",
   "execution_count": 3,
   "metadata": {},
   "outputs": [
    {
     "data": {
      "text/html": [
       "<div>\n",
       "<style scoped>\n",
       "    .dataframe tbody tr th:only-of-type {\n",
       "        vertical-align: middle;\n",
       "    }\n",
       "\n",
       "    .dataframe tbody tr th {\n",
       "        vertical-align: top;\n",
       "    }\n",
       "\n",
       "    .dataframe thead th {\n",
       "        text-align: right;\n",
       "    }\n",
       "</style>\n",
       "<table border=\"1\" class=\"dataframe\">\n",
       "  <thead>\n",
       "    <tr style=\"text-align: right;\">\n",
       "      <th></th>\n",
       "      <th>model_performance</th>\n",
       "      <th>wd_random</th>\n",
       "      <th>wd_compressed</th>\n",
       "      <th>wd_diff</th>\n",
       "      <th>svi_random</th>\n",
       "      <th>svi_compressed</th>\n",
       "      <th>svi_diff</th>\n",
       "      <th>sv_wd_random</th>\n",
       "      <th>sv_wd_compressed</th>\n",
       "      <th>sv_wd_diff</th>\n",
       "      <th>pvi_random</th>\n",
       "      <th>pvi_compressed</th>\n",
       "      <th>pvi_diff</th>\n",
       "      <th>pdp_random</th>\n",
       "      <th>pdp_compressed</th>\n",
       "      <th>pdp_diff</th>\n",
       "      <th>time_kt</th>\n",
       "      <th>time_sv_diff</th>\n",
       "      <th>time_pvi_diff</th>\n",
       "      <th>time_pdp_diff</th>\n",
       "    </tr>\n",
       "  </thead>\n",
       "  <tbody>\n",
       "    <tr>\n",
       "      <th>0</th>\n",
       "      <td>0.99999</td>\n",
       "      <td>0.914825</td>\n",
       "      <td>0.333390</td>\n",
       "      <td>0.581435</td>\n",
       "      <td>0.055778</td>\n",
       "      <td>0.051476</td>\n",
       "      <td>0.004303</td>\n",
       "      <td>0.092148</td>\n",
       "      <td>0.074178</td>\n",
       "      <td>0.017970</td>\n",
       "      <td>0.025372</td>\n",
       "      <td>0.020700</td>\n",
       "      <td>0.004672</td>\n",
       "      <td>0.678488</td>\n",
       "      <td>0.689719</td>\n",
       "      <td>-0.011231</td>\n",
       "      <td>163.320218</td>\n",
       "      <td>438.681662</td>\n",
       "      <td>26.777874</td>\n",
       "      <td>3.975417</td>\n",
       "    </tr>\n",
       "    <tr>\n",
       "      <th>1</th>\n",
       "      <td>0.99999</td>\n",
       "      <td>0.943374</td>\n",
       "      <td>0.301566</td>\n",
       "      <td>0.641808</td>\n",
       "      <td>0.049038</td>\n",
       "      <td>0.060377</td>\n",
       "      <td>-0.011340</td>\n",
       "      <td>0.091268</td>\n",
       "      <td>0.091477</td>\n",
       "      <td>-0.000209</td>\n",
       "      <td>0.015830</td>\n",
       "      <td>0.019436</td>\n",
       "      <td>-0.003606</td>\n",
       "      <td>0.655411</td>\n",
       "      <td>0.607666</td>\n",
       "      <td>0.047745</td>\n",
       "      <td>172.883994</td>\n",
       "      <td>438.888578</td>\n",
       "      <td>26.371574</td>\n",
       "      <td>3.998697</td>\n",
       "    </tr>\n",
       "    <tr>\n",
       "      <th>2</th>\n",
       "      <td>0.99999</td>\n",
       "      <td>1.201789</td>\n",
       "      <td>0.296135</td>\n",
       "      <td>0.905654</td>\n",
       "      <td>0.046310</td>\n",
       "      <td>0.050001</td>\n",
       "      <td>-0.003691</td>\n",
       "      <td>0.110998</td>\n",
       "      <td>0.092965</td>\n",
       "      <td>0.018033</td>\n",
       "      <td>0.012723</td>\n",
       "      <td>0.017196</td>\n",
       "      <td>-0.004473</td>\n",
       "      <td>0.912964</td>\n",
       "      <td>0.776544</td>\n",
       "      <td>0.136420</td>\n",
       "      <td>176.349706</td>\n",
       "      <td>438.580362</td>\n",
       "      <td>25.215844</td>\n",
       "      <td>4.013992</td>\n",
       "    </tr>\n",
       "    <tr>\n",
       "      <th>3</th>\n",
       "      <td>0.99999</td>\n",
       "      <td>1.073100</td>\n",
       "      <td>0.327431</td>\n",
       "      <td>0.745670</td>\n",
       "      <td>0.073874</td>\n",
       "      <td>0.050551</td>\n",
       "      <td>0.023323</td>\n",
       "      <td>0.093530</td>\n",
       "      <td>0.076363</td>\n",
       "      <td>0.017167</td>\n",
       "      <td>0.024312</td>\n",
       "      <td>0.022510</td>\n",
       "      <td>0.001802</td>\n",
       "      <td>0.225996</td>\n",
       "      <td>0.721467</td>\n",
       "      <td>-0.495471</td>\n",
       "      <td>194.018729</td>\n",
       "      <td>433.315737</td>\n",
       "      <td>25.693554</td>\n",
       "      <td>3.970198</td>\n",
       "    </tr>\n",
       "    <tr>\n",
       "      <th>4</th>\n",
       "      <td>0.99999</td>\n",
       "      <td>0.938997</td>\n",
       "      <td>0.297560</td>\n",
       "      <td>0.641437</td>\n",
       "      <td>0.077003</td>\n",
       "      <td>0.050961</td>\n",
       "      <td>0.026043</td>\n",
       "      <td>0.103280</td>\n",
       "      <td>0.085619</td>\n",
       "      <td>0.017661</td>\n",
       "      <td>0.014229</td>\n",
       "      <td>0.023711</td>\n",
       "      <td>-0.009482</td>\n",
       "      <td>0.548160</td>\n",
       "      <td>0.637898</td>\n",
       "      <td>-0.089738</td>\n",
       "      <td>183.124236</td>\n",
       "      <td>433.835774</td>\n",
       "      <td>25.925552</td>\n",
       "      <td>3.962152</td>\n",
       "    </tr>\n",
       "    <tr>\n",
       "      <th>5</th>\n",
       "      <td>0.99999</td>\n",
       "      <td>1.215387</td>\n",
       "      <td>0.292245</td>\n",
       "      <td>0.923142</td>\n",
       "      <td>0.055847</td>\n",
       "      <td>0.043337</td>\n",
       "      <td>0.012510</td>\n",
       "      <td>0.082771</td>\n",
       "      <td>0.073322</td>\n",
       "      <td>0.009448</td>\n",
       "      <td>0.042908</td>\n",
       "      <td>0.014208</td>\n",
       "      <td>0.028700</td>\n",
       "      <td>0.158817</td>\n",
       "      <td>0.677957</td>\n",
       "      <td>-0.519140</td>\n",
       "      <td>176.089955</td>\n",
       "      <td>436.394202</td>\n",
       "      <td>25.913028</td>\n",
       "      <td>3.983199</td>\n",
       "    </tr>\n",
       "    <tr>\n",
       "      <th>6</th>\n",
       "      <td>0.99999</td>\n",
       "      <td>0.912528</td>\n",
       "      <td>0.292428</td>\n",
       "      <td>0.620100</td>\n",
       "      <td>0.053612</td>\n",
       "      <td>0.040910</td>\n",
       "      <td>0.012702</td>\n",
       "      <td>0.075496</td>\n",
       "      <td>0.064309</td>\n",
       "      <td>0.011187</td>\n",
       "      <td>0.010531</td>\n",
       "      <td>0.024225</td>\n",
       "      <td>-0.013694</td>\n",
       "      <td>0.513245</td>\n",
       "      <td>0.184923</td>\n",
       "      <td>0.328322</td>\n",
       "      <td>177.382186</td>\n",
       "      <td>438.356257</td>\n",
       "      <td>25.349034</td>\n",
       "      <td>3.979200</td>\n",
       "    </tr>\n",
       "    <tr>\n",
       "      <th>7</th>\n",
       "      <td>0.99999</td>\n",
       "      <td>0.771177</td>\n",
       "      <td>0.323179</td>\n",
       "      <td>0.447998</td>\n",
       "      <td>0.065741</td>\n",
       "      <td>0.053450</td>\n",
       "      <td>0.012291</td>\n",
       "      <td>0.091022</td>\n",
       "      <td>0.077043</td>\n",
       "      <td>0.013979</td>\n",
       "      <td>0.025452</td>\n",
       "      <td>0.012739</td>\n",
       "      <td>0.012713</td>\n",
       "      <td>0.121974</td>\n",
       "      <td>0.171467</td>\n",
       "      <td>-0.049493</td>\n",
       "      <td>179.827474</td>\n",
       "      <td>438.345841</td>\n",
       "      <td>25.809729</td>\n",
       "      <td>3.966199</td>\n",
       "    </tr>\n",
       "    <tr>\n",
       "      <th>8</th>\n",
       "      <td>0.99999</td>\n",
       "      <td>0.859690</td>\n",
       "      <td>0.281970</td>\n",
       "      <td>0.577720</td>\n",
       "      <td>0.057674</td>\n",
       "      <td>0.044508</td>\n",
       "      <td>0.013166</td>\n",
       "      <td>0.091306</td>\n",
       "      <td>0.066762</td>\n",
       "      <td>0.024544</td>\n",
       "      <td>0.028153</td>\n",
       "      <td>0.044653</td>\n",
       "      <td>-0.016499</td>\n",
       "      <td>0.632790</td>\n",
       "      <td>0.458793</td>\n",
       "      <td>0.173997</td>\n",
       "      <td>183.968951</td>\n",
       "      <td>438.049771</td>\n",
       "      <td>25.989367</td>\n",
       "      <td>3.987201</td>\n",
       "    </tr>\n",
       "    <tr>\n",
       "      <th>9</th>\n",
       "      <td>0.99999</td>\n",
       "      <td>1.042335</td>\n",
       "      <td>0.353499</td>\n",
       "      <td>0.688835</td>\n",
       "      <td>0.045904</td>\n",
       "      <td>0.052738</td>\n",
       "      <td>-0.006834</td>\n",
       "      <td>0.077272</td>\n",
       "      <td>0.097752</td>\n",
       "      <td>-0.020480</td>\n",
       "      <td>0.012647</td>\n",
       "      <td>0.013854</td>\n",
       "      <td>-0.001207</td>\n",
       "      <td>0.178446</td>\n",
       "      <td>0.650483</td>\n",
       "      <td>-0.472038</td>\n",
       "      <td>213.001142</td>\n",
       "      <td>438.035412</td>\n",
       "      <td>25.511702</td>\n",
       "      <td>3.962200</td>\n",
       "    </tr>\n",
       "    <tr>\n",
       "      <th>10</th>\n",
       "      <td>0.99999</td>\n",
       "      <td>1.149339</td>\n",
       "      <td>0.303230</td>\n",
       "      <td>0.846108</td>\n",
       "      <td>0.070093</td>\n",
       "      <td>0.039031</td>\n",
       "      <td>0.031062</td>\n",
       "      <td>0.101260</td>\n",
       "      <td>0.071131</td>\n",
       "      <td>0.030129</td>\n",
       "      <td>0.015156</td>\n",
       "      <td>0.020576</td>\n",
       "      <td>-0.005420</td>\n",
       "      <td>0.357289</td>\n",
       "      <td>0.258985</td>\n",
       "      <td>0.098304</td>\n",
       "      <td>200.430657</td>\n",
       "      <td>437.123539</td>\n",
       "      <td>26.129695</td>\n",
       "      <td>3.980202</td>\n",
       "    </tr>\n",
       "  </tbody>\n",
       "</table>\n",
       "</div>"
      ],
      "text/plain": [
       "    model_performance  wd_random  wd_compressed   wd_diff  svi_random  \\\n",
       "0             0.99999   0.914825       0.333390  0.581435    0.055778   \n",
       "1             0.99999   0.943374       0.301566  0.641808    0.049038   \n",
       "2             0.99999   1.201789       0.296135  0.905654    0.046310   \n",
       "3             0.99999   1.073100       0.327431  0.745670    0.073874   \n",
       "4             0.99999   0.938997       0.297560  0.641437    0.077003   \n",
       "5             0.99999   1.215387       0.292245  0.923142    0.055847   \n",
       "6             0.99999   0.912528       0.292428  0.620100    0.053612   \n",
       "7             0.99999   0.771177       0.323179  0.447998    0.065741   \n",
       "8             0.99999   0.859690       0.281970  0.577720    0.057674   \n",
       "9             0.99999   1.042335       0.353499  0.688835    0.045904   \n",
       "10            0.99999   1.149339       0.303230  0.846108    0.070093   \n",
       "\n",
       "    svi_compressed  svi_diff  sv_wd_random  sv_wd_compressed  sv_wd_diff  \\\n",
       "0         0.051476  0.004303      0.092148          0.074178    0.017970   \n",
       "1         0.060377 -0.011340      0.091268          0.091477   -0.000209   \n",
       "2         0.050001 -0.003691      0.110998          0.092965    0.018033   \n",
       "3         0.050551  0.023323      0.093530          0.076363    0.017167   \n",
       "4         0.050961  0.026043      0.103280          0.085619    0.017661   \n",
       "5         0.043337  0.012510      0.082771          0.073322    0.009448   \n",
       "6         0.040910  0.012702      0.075496          0.064309    0.011187   \n",
       "7         0.053450  0.012291      0.091022          0.077043    0.013979   \n",
       "8         0.044508  0.013166      0.091306          0.066762    0.024544   \n",
       "9         0.052738 -0.006834      0.077272          0.097752   -0.020480   \n",
       "10        0.039031  0.031062      0.101260          0.071131    0.030129   \n",
       "\n",
       "    pvi_random  pvi_compressed  pvi_diff  pdp_random  pdp_compressed  \\\n",
       "0     0.025372        0.020700  0.004672    0.678488        0.689719   \n",
       "1     0.015830        0.019436 -0.003606    0.655411        0.607666   \n",
       "2     0.012723        0.017196 -0.004473    0.912964        0.776544   \n",
       "3     0.024312        0.022510  0.001802    0.225996        0.721467   \n",
       "4     0.014229        0.023711 -0.009482    0.548160        0.637898   \n",
       "5     0.042908        0.014208  0.028700    0.158817        0.677957   \n",
       "6     0.010531        0.024225 -0.013694    0.513245        0.184923   \n",
       "7     0.025452        0.012739  0.012713    0.121974        0.171467   \n",
       "8     0.028153        0.044653 -0.016499    0.632790        0.458793   \n",
       "9     0.012647        0.013854 -0.001207    0.178446        0.650483   \n",
       "10    0.015156        0.020576 -0.005420    0.357289        0.258985   \n",
       "\n",
       "    pdp_diff     time_kt  time_sv_diff  time_pvi_diff  time_pdp_diff  \n",
       "0  -0.011231  163.320218    438.681662      26.777874       3.975417  \n",
       "1   0.047745  172.883994    438.888578      26.371574       3.998697  \n",
       "2   0.136420  176.349706    438.580362      25.215844       4.013992  \n",
       "3  -0.495471  194.018729    433.315737      25.693554       3.970198  \n",
       "4  -0.089738  183.124236    433.835774      25.925552       3.962152  \n",
       "5  -0.519140  176.089955    436.394202      25.913028       3.983199  \n",
       "6   0.328322  177.382186    438.356257      25.349034       3.979200  \n",
       "7  -0.049493  179.827474    438.345841      25.809729       3.966199  \n",
       "8   0.173997  183.968951    438.049771      25.989367       3.987201  \n",
       "9  -0.472038  213.001142    438.035412      25.511702       3.962200  \n",
       "10  0.098304  200.430657    437.123539      26.129695       3.980202  "
      ]
     },
     "execution_count": 3,
     "metadata": {},
     "output_type": "execute_result"
    }
   ],
   "source": [
    "data"
   ]
  },
  {
   "cell_type": "code",
   "execution_count": 6,
   "metadata": {},
   "outputs": [
    {
     "data": {
      "text/html": [
       "<div>\n",
       "<style scoped>\n",
       "    .dataframe tbody tr th:only-of-type {\n",
       "        vertical-align: middle;\n",
       "    }\n",
       "\n",
       "    .dataframe tbody tr th {\n",
       "        vertical-align: top;\n",
       "    }\n",
       "\n",
       "    .dataframe thead th {\n",
       "        text-align: right;\n",
       "    }\n",
       "</style>\n",
       "<table border=\"1\" class=\"dataframe\">\n",
       "  <thead>\n",
       "    <tr style=\"text-align: right;\">\n",
       "      <th></th>\n",
       "      <th>0</th>\n",
       "      <th>1</th>\n",
       "      <th>2</th>\n",
       "      <th>3</th>\n",
       "      <th>4</th>\n",
       "    </tr>\n",
       "  </thead>\n",
       "  <tbody>\n",
       "    <tr>\n",
       "      <th>0</th>\n",
       "      <td>wd</td>\n",
       "      <td>svi</td>\n",
       "      <td>sv_wd</td>\n",
       "      <td>pvi</td>\n",
       "      <td>pdp</td>\n",
       "    </tr>\n",
       "    <tr>\n",
       "      <th>1</th>\n",
       "      <td>0.0</td>\n",
       "      <td>0.007669</td>\n",
       "      <td>0.006626</td>\n",
       "      <td>0.558994</td>\n",
       "      <td>0.768003</td>\n",
       "    </tr>\n",
       "  </tbody>\n",
       "</table>\n",
       "</div>"
      ],
      "text/plain": [
       "     0         1         2         3         4\n",
       "0   wd       svi     sv_wd       pvi       pdp\n",
       "1  0.0  0.007669  0.006626  0.558994  0.768003"
      ]
     },
     "execution_count": 6,
     "metadata": {},
     "output_type": "execute_result"
    }
   ],
   "source": [
    "pd.DataFrame(data = [['wd','svi','sv_wd', 'pvi', 'pdp'],[ttest_ind(data[y+'_compressed'], data[y+'_random'], equal_var=False, alternative='less').pvalue for y in ['wd','svi','sv_wd', 'pvi', 'pdp']]])"
   ]
  },
  {
   "cell_type": "code",
   "execution_count": 11,
   "metadata": {},
   "outputs": [
    {
     "data": {
      "text/plain": [
       "0     0.99999\n",
       "1     0.99999\n",
       "2     0.99999\n",
       "3     0.99999\n",
       "4     0.99999\n",
       "5     0.99999\n",
       "6     0.99999\n",
       "7     0.99999\n",
       "8     0.99999\n",
       "9     0.99999\n",
       "10    0.99999\n",
       "Name: model_performance, dtype: float64"
      ]
     },
     "execution_count": 11,
     "metadata": {},
     "output_type": "execute_result"
    }
   ],
   "source": [
    "data.model_performance"
   ]
  },
  {
   "cell_type": "code",
   "execution_count": 12,
   "metadata": {},
   "outputs": [
    {
     "name": "stdout",
     "output_type": "stream",
     "text": [
      "0.4201205676968877\n",
      "7.101993775976606\n",
      "46.15628219327869\n"
     ]
    }
   ],
   "source": [
    "print((data.time_kt / data.time_sv_diff).mean())\n",
    "print((data.time_kt / data.time_pvi_diff).mean())\n",
    "print((data.time_kt / data.time_pdp_diff).mean())"
   ]
  },
  {
   "cell_type": "code",
   "execution_count": 13,
   "metadata": {},
   "outputs": [
    {
     "name": "stdout",
     "output_type": "stream",
     "text": [
      "freq diff > 0: 1.0\n"
     ]
    },
    {
     "data": {
      "image/png": "[encoded data removed]",
      "text/plain": [
       "<Figure size 432x288 with 1 Axes>"
      ]
     },
     "metadata": {
      "needs_background": "light"
     },
     "output_type": "display_data"
    }
   ],
   "source": [
    "analyze_1d(data.wd_diff)"
   ]
  },
  {
   "cell_type": "code",
   "execution_count": 10,
   "metadata": {},
   "outputs": [
    {
     "name": "stdout",
     "output_type": "stream",
     "text": [
      "freq diff > 0: 0.7272727272727273\n"
     ]
    },
    {
     "data": {
      "image/png": "[encoded data removed]",
      "text/plain": [
       "<Figure size 432x288 with 1 Axes>"
      ]
     },
     "metadata": {
      "needs_background": "light"
     },
     "output_type": "display_data"
    }
   ],
   "source": [
    "analyze_1d(data.svi_diff) # 1d"
   ]
  },
  {
   "cell_type": "code",
   "execution_count": 11,
   "metadata": {},
   "outputs": [
    {
     "name": "stdout",
     "output_type": "stream",
     "text": [
      "freq diff > 0: 0.8181818181818182\n"
     ]
    },
    {
     "data": {
      "image/png": "[encoded data removed]",
      "text/plain": [
       "<Figure size 432x288 with 1 Axes>"
      ]
     },
     "metadata": {
      "needs_background": "light"
     },
     "output_type": "display_data"
    }
   ],
   "source": [
    "analyze_1d(data.sv_wd_diff) # 2d"
   ]
  },
  {
   "cell_type": "code",
   "execution_count": 12,
   "metadata": {},
   "outputs": [
    {
     "name": "stdout",
     "output_type": "stream",
     "text": [
      "freq diff > 0: 0.36363636363636365\n"
     ]
    },
    {
     "data": {
      "image/png": "[encoded data removed]",
      "text/plain": [
       "<Figure size 432x288 with 1 Axes>"
      ]
     },
     "metadata": {
      "needs_background": "light"
     },
     "output_type": "display_data"
    }
   ],
   "source": [
    "analyze_1d(data.pvi_diff)"
   ]
  },
  {
   "cell_type": "code",
   "execution_count": 13,
   "metadata": {},
   "outputs": [
    {
     "name": "stdout",
     "output_type": "stream",
     "text": [
      "freq diff > 0: 0.45454545454545453\n"
     ]
    },
    {
     "data": {
      "image/png": "[encoded data removed]",
      "text/plain": [
       "<Figure size 432x288 with 1 Axes>"
      ]
     },
     "metadata": {
      "needs_background": "light"
     },
     "output_type": "display_data"
    }
   ],
   "source": [
    "analyze_1d(data.pdp_diff)"
   ]
  },
  {
   "cell_type": "markdown",
   "metadata": {},
   "source": [
    "## exp3_compress"
   ]
  },
  {
   "cell_type": "code",
   "execution_count": 14,
   "metadata": {},
   "outputs": [],
   "source": [
    "import pandas as pd\n",
    "import numpy as np\n",
    "import matplotlib.pyplot as plt\n",
    "\n",
    "def analyze_1d(x):\n",
    "    _ = plt.hist(x)\n",
    "    print(f'freq diff > 0: {np.mean(x > 0)}')"
   ]
  },
  {
   "cell_type": "code",
   "execution_count": 7,
   "metadata": {},
   "outputs": [],
   "source": [
    "data = pd.read_csv(\"results/exp3_compress.csv\")"
   ]
  },
  {
   "cell_type": "code",
   "execution_count": 9,
   "metadata": {},
   "outputs": [
    {
     "data": {
      "text/html": [
       "<div>\n",
       "<style scoped>\n",
       "    .dataframe tbody tr th:only-of-type {\n",
       "        vertical-align: middle;\n",
       "    }\n",
       "\n",
       "    .dataframe tbody tr th {\n",
       "        vertical-align: top;\n",
       "    }\n",
       "\n",
       "    .dataframe thead th {\n",
       "        text-align: right;\n",
       "    }\n",
       "</style>\n",
       "<table border=\"1\" class=\"dataframe\">\n",
       "  <thead>\n",
       "    <tr style=\"text-align: right;\">\n",
       "      <th></th>\n",
       "      <th>0</th>\n",
       "      <th>1</th>\n",
       "      <th>2</th>\n",
       "      <th>3</th>\n",
       "      <th>4</th>\n",
       "    </tr>\n",
       "  </thead>\n",
       "  <tbody>\n",
       "    <tr>\n",
       "      <th>0</th>\n",
       "      <td>wd</td>\n",
       "      <td>svi</td>\n",
       "      <td>sv_wd</td>\n",
       "      <td>pvi</td>\n",
       "      <td>pdp</td>\n",
       "    </tr>\n",
       "    <tr>\n",
       "      <th>1</th>\n",
       "      <td>0.0</td>\n",
       "      <td>0.204213</td>\n",
       "      <td>0.182718</td>\n",
       "      <td>0.825812</td>\n",
       "      <td>0.116361</td>\n",
       "    </tr>\n",
       "  </tbody>\n",
       "</table>\n",
       "</div>"
      ],
      "text/plain": [
       "     0         1         2         3         4\n",
       "0   wd       svi     sv_wd       pvi       pdp\n",
       "1  0.0  0.204213  0.182718  0.825812  0.116361"
      ]
     },
     "execution_count": 9,
     "metadata": {},
     "output_type": "execute_result"
    }
   ],
   "source": [
    "pd.DataFrame(data = [['wd','svi','sv_wd', 'pvi', 'pdp'],[ttest_ind(data[y+'_compressed'], data[y+'_random'], equal_var=False, alternative='less').pvalue for y in ['wd','svi','sv_wd', 'pvi', 'ale']]])"
   ]
  },
  {
   "cell_type": "code",
   "execution_count": 17,
   "metadata": {},
   "outputs": [
    {
     "data": {
      "text/html": [
       "<div>\n",
       "<style scoped>\n",
       "    .dataframe tbody tr th:only-of-type {\n",
       "        vertical-align: middle;\n",
       "    }\n",
       "\n",
       "    .dataframe tbody tr th {\n",
       "        vertical-align: top;\n",
       "    }\n",
       "\n",
       "    .dataframe thead th {\n",
       "        text-align: right;\n",
       "    }\n",
       "</style>\n",
       "<table border=\"1\" class=\"dataframe\">\n",
       "  <thead>\n",
       "    <tr style=\"text-align: right;\">\n",
       "      <th></th>\n",
       "      <th>model_performance_random</th>\n",
       "      <th>model_performance_compressed</th>\n",
       "      <th>wd_random</th>\n",
       "      <th>wd_compressed</th>\n",
       "      <th>wd_diff</th>\n",
       "      <th>svi_random</th>\n",
       "      <th>svi_compressed</th>\n",
       "      <th>svi_diff</th>\n",
       "      <th>sv_wd_random</th>\n",
       "      <th>sv_wd_compressed</th>\n",
       "      <th>...</th>\n",
       "      <th>pvi_random</th>\n",
       "      <th>pvi_compressed</th>\n",
       "      <th>pvi_diff</th>\n",
       "      <th>ale_random</th>\n",
       "      <th>ale_compressed</th>\n",
       "      <th>ale_diff</th>\n",
       "      <th>time_kt</th>\n",
       "      <th>time_sv_diff</th>\n",
       "      <th>time_pvi_diff</th>\n",
       "      <th>time_ale_diff</th>\n",
       "    </tr>\n",
       "  </thead>\n",
       "  <tbody>\n",
       "    <tr>\n",
       "      <th>0</th>\n",
       "      <td>0.883459</td>\n",
       "      <td>0.894737</td>\n",
       "      <td>1.813843</td>\n",
       "      <td>1.183196</td>\n",
       "      <td>0.630647</td>\n",
       "      <td>0.038693</td>\n",
       "      <td>0.045637</td>\n",
       "      <td>-0.006944</td>\n",
       "      <td>0.086170</td>\n",
       "      <td>0.097550</td>\n",
       "      <td>...</td>\n",
       "      <td>0.998694</td>\n",
       "      <td>1.558247</td>\n",
       "      <td>-0.559553</td>\n",
       "      <td>0.752214</td>\n",
       "      <td>1.114755</td>\n",
       "      <td>-0.362541</td>\n",
       "      <td>3.475154</td>\n",
       "      <td>207.180527</td>\n",
       "      <td>18.337368</td>\n",
       "      <td>4.700994</td>\n",
       "    </tr>\n",
       "    <tr>\n",
       "      <th>1</th>\n",
       "      <td>0.905738</td>\n",
       "      <td>0.927928</td>\n",
       "      <td>2.664207</td>\n",
       "      <td>1.342364</td>\n",
       "      <td>1.321844</td>\n",
       "      <td>0.072204</td>\n",
       "      <td>0.088389</td>\n",
       "      <td>-0.016185</td>\n",
       "      <td>0.108850</td>\n",
       "      <td>0.116398</td>\n",
       "      <td>...</td>\n",
       "      <td>1.317052</td>\n",
       "      <td>1.601035</td>\n",
       "      <td>-0.283982</td>\n",
       "      <td>0.418831</td>\n",
       "      <td>0.307301</td>\n",
       "      <td>0.111530</td>\n",
       "      <td>3.529100</td>\n",
       "      <td>207.138988</td>\n",
       "      <td>18.348162</td>\n",
       "      <td>4.708762</td>\n",
       "    </tr>\n",
       "    <tr>\n",
       "      <th>2</th>\n",
       "      <td>0.939831</td>\n",
       "      <td>0.854181</td>\n",
       "      <td>1.965352</td>\n",
       "      <td>1.214823</td>\n",
       "      <td>0.750529</td>\n",
       "      <td>0.057060</td>\n",
       "      <td>0.050475</td>\n",
       "      <td>0.006585</td>\n",
       "      <td>0.095458</td>\n",
       "      <td>0.090767</td>\n",
       "      <td>...</td>\n",
       "      <td>2.114356</td>\n",
       "      <td>1.630178</td>\n",
       "      <td>0.484178</td>\n",
       "      <td>1.079623</td>\n",
       "      <td>1.303390</td>\n",
       "      <td>-0.223767</td>\n",
       "      <td>3.509822</td>\n",
       "      <td>206.861300</td>\n",
       "      <td>17.694215</td>\n",
       "      <td>4.704022</td>\n",
       "    </tr>\n",
       "    <tr>\n",
       "      <th>3</th>\n",
       "      <td>0.729225</td>\n",
       "      <td>0.854849</td>\n",
       "      <td>2.092991</td>\n",
       "      <td>1.448225</td>\n",
       "      <td>0.644766</td>\n",
       "      <td>0.038105</td>\n",
       "      <td>0.057799</td>\n",
       "      <td>-0.019694</td>\n",
       "      <td>0.097306</td>\n",
       "      <td>0.112709</td>\n",
       "      <td>...</td>\n",
       "      <td>1.171491</td>\n",
       "      <td>1.146941</td>\n",
       "      <td>0.024550</td>\n",
       "      <td>1.181548</td>\n",
       "      <td>1.521782</td>\n",
       "      <td>-0.340234</td>\n",
       "      <td>3.509696</td>\n",
       "      <td>207.121820</td>\n",
       "      <td>18.339110</td>\n",
       "      <td>4.704359</td>\n",
       "    </tr>\n",
       "    <tr>\n",
       "      <th>4</th>\n",
       "      <td>0.885619</td>\n",
       "      <td>0.825000</td>\n",
       "      <td>2.390006</td>\n",
       "      <td>1.129253</td>\n",
       "      <td>1.260753</td>\n",
       "      <td>0.067140</td>\n",
       "      <td>0.058016</td>\n",
       "      <td>0.009124</td>\n",
       "      <td>0.093536</td>\n",
       "      <td>0.106121</td>\n",
       "      <td>...</td>\n",
       "      <td>0.991804</td>\n",
       "      <td>0.427216</td>\n",
       "      <td>0.564587</td>\n",
       "      <td>0.417549</td>\n",
       "      <td>0.889325</td>\n",
       "      <td>-0.471776</td>\n",
       "      <td>3.554004</td>\n",
       "      <td>207.127789</td>\n",
       "      <td>18.233817</td>\n",
       "      <td>4.706545</td>\n",
       "    </tr>\n",
       "  </tbody>\n",
       "</table>\n",
       "<p>5 rows × 21 columns</p>\n",
       "</div>"
      ],
      "text/plain": [
       "   model_performance_random  model_performance_compressed  wd_random  \\\n",
       "0                  0.883459                      0.894737   1.813843   \n",
       "1                  0.905738                      0.927928   2.664207   \n",
       "2                  0.939831                      0.854181   1.965352   \n",
       "3                  0.729225                      0.854849   2.092991   \n",
       "4                  0.885619                      0.825000   2.390006   \n",
       "\n",
       "   wd_compressed   wd_diff  svi_random  svi_compressed  svi_diff  \\\n",
       "0       1.183196  0.630647    0.038693        0.045637 -0.006944   \n",
       "1       1.342364  1.321844    0.072204        0.088389 -0.016185   \n",
       "2       1.214823  0.750529    0.057060        0.050475  0.006585   \n",
       "3       1.448225  0.644766    0.038105        0.057799 -0.019694   \n",
       "4       1.129253  1.260753    0.067140        0.058016  0.009124   \n",
       "\n",
       "   sv_wd_random  sv_wd_compressed  ...  pvi_random  pvi_compressed  pvi_diff  \\\n",
       "0      0.086170          0.097550  ...    0.998694        1.558247 -0.559553   \n",
       "1      0.108850          0.116398  ...    1.317052        1.601035 -0.283982   \n",
       "2      0.095458          0.090767  ...    2.114356        1.630178  0.484178   \n",
       "3      0.097306          0.112709  ...    1.171491        1.146941  0.024550   \n",
       "4      0.093536          0.106121  ...    0.991804        0.427216  0.564587   \n",
       "\n",
       "   ale_random  ale_compressed  ale_diff   time_kt  time_sv_diff  \\\n",
       "0    0.752214        1.114755 -0.362541  3.475154    207.180527   \n",
       "1    0.418831        0.307301  0.111530  3.529100    207.138988   \n",
       "2    1.079623        1.303390 -0.223767  3.509822    206.861300   \n",
       "3    1.181548        1.521782 -0.340234  3.509696    207.121820   \n",
       "4    0.417549        0.889325 -0.471776  3.554004    207.127789   \n",
       "\n",
       "   time_pvi_diff  time_ale_diff  \n",
       "0      18.337368       4.700994  \n",
       "1      18.348162       4.708762  \n",
       "2      17.694215       4.704022  \n",
       "3      18.339110       4.704359  \n",
       "4      18.233817       4.706545  \n",
       "\n",
       "[5 rows x 21 columns]"
      ]
     },
     "execution_count": 17,
     "metadata": {},
     "output_type": "execute_result"
    }
   ],
   "source": [
    "data.head()"
   ]
  },
  {
   "cell_type": "code",
   "execution_count": 4,
   "metadata": {},
   "outputs": [
    {
     "name": "stdout",
     "output_type": "stream",
     "text": [
      "0.01720978576809582\n",
      "0.19506538015213667\n",
      "0.7581157765680971\n"
     ]
    }
   ],
   "source": [
    "print((data.time_kt / data.time_sv_diff).mean())\n",
    "print((data.time_kt / data.time_pvi_diff).mean())\n",
    "print((data.time_kt / data.time_ale_diff).mean())"
   ]
  },
  {
   "cell_type": "code",
   "execution_count": 7,
   "metadata": {},
   "outputs": [
    {
     "name": "stdout",
     "output_type": "stream",
     "text": [
      "freq diff > 0: 1.0\n"
     ]
    },
    {
     "data": {
      "image/png": "[encoded data removed]",
      "text/plain": [
       "<Figure size 432x288 with 1 Axes>"
      ]
     },
     "metadata": {
      "needs_background": "light"
     },
     "output_type": "display_data"
    }
   ],
   "source": [
    "analyze_1d(data.wd_diff)"
   ]
  },
  {
   "cell_type": "code",
   "execution_count": 6,
   "metadata": {},
   "outputs": [
    {
     "name": "stdout",
     "output_type": "stream",
     "text": [
      "freq diff > 0: 0.5490196078431373\n"
     ]
    },
    {
     "data": {
      "image/png": "[encoded data removed]",
      "text/plain": [
       "<Figure size 432x288 with 1 Axes>"
      ]
     },
     "metadata": {
      "needs_background": "light"
     },
     "output_type": "display_data"
    }
   ],
   "source": [
    "analyze_1d(data.svi_diff) # 1d"
   ]
  },
  {
   "cell_type": "code",
   "execution_count": 7,
   "metadata": {},
   "outputs": [
    {
     "name": "stdout",
     "output_type": "stream",
     "text": [
      "freq diff > 0: 0.5686274509803921\n"
     ]
    },
    {
     "data": {
      "image/png": "[encoded data removed]",
      "text/plain": [
       "<Figure size 432x288 with 1 Axes>"
      ]
     },
     "metadata": {
      "needs_background": "light"
     },
     "output_type": "display_data"
    }
   ],
   "source": [
    "analyze_1d(data.sv_wd_diff) # 2d"
   ]
  },
  {
   "cell_type": "code",
   "execution_count": 8,
   "metadata": {},
   "outputs": [
    {
     "name": "stdout",
     "output_type": "stream",
     "text": [
      "freq diff > 0: 0.47058823529411764\n"
     ]
    },
    {
     "data": {
      "image/png": "[encoded data removed]",
      "text/plain": [
       "<Figure size 432x288 with 1 Axes>"
      ]
     },
     "metadata": {
      "needs_background": "light"
     },
     "output_type": "display_data"
    }
   ],
   "source": [
    "analyze_1d(data.pvi_diff)"
   ]
  },
  {
   "cell_type": "code",
   "execution_count": 9,
   "metadata": {},
   "outputs": [
    {
     "name": "stdout",
     "output_type": "stream",
     "text": [
      "freq diff > 0: 0.49019607843137253\n"
     ]
    },
    {
     "data": {
      "image/png": "[encoded data removed]",
      "text/plain": [
       "<Figure size 432x288 with 1 Axes>"
      ]
     },
     "metadata": {
      "needs_background": "light"
     },
     "output_type": "display_data"
    }
   ],
   "source": [
    "analyze_1d(data.ale_diff)"
   ]
  },
  {
   "cell_type": "markdown",
   "metadata": {},
   "source": [
    "## exp4_nocat"
   ]
  },
  {
   "cell_type": "code",
   "execution_count": 10,
   "metadata": {},
   "outputs": [
    {
     "data": {
      "text/html": [
       "<div>\n",
       "<style scoped>\n",
       "    .dataframe tbody tr th:only-of-type {\n",
       "        vertical-align: middle;\n",
       "    }\n",
       "\n",
       "    .dataframe tbody tr th {\n",
       "        vertical-align: top;\n",
       "    }\n",
       "\n",
       "    .dataframe thead th {\n",
       "        text-align: right;\n",
       "    }\n",
       "</style>\n",
       "<table border=\"1\" class=\"dataframe\">\n",
       "  <thead>\n",
       "    <tr style=\"text-align: right;\">\n",
       "      <th></th>\n",
       "      <th>model_performance_random</th>\n",
       "      <th>model_performance_compressed</th>\n",
       "      <th>wd_random</th>\n",
       "      <th>wd_compressed</th>\n",
       "      <th>wd_diff</th>\n",
       "      <th>svi_random</th>\n",
       "      <th>svi_compressed</th>\n",
       "      <th>svi_diff</th>\n",
       "      <th>sv_wd_random</th>\n",
       "      <th>sv_wd_compressed</th>\n",
       "      <th>...</th>\n",
       "      <th>pdp_compressed</th>\n",
       "      <th>pdp_diff</th>\n",
       "      <th>ale_random</th>\n",
       "      <th>ale_compressed</th>\n",
       "      <th>ale_diff</th>\n",
       "      <th>time_kt</th>\n",
       "      <th>time_sv_diff</th>\n",
       "      <th>time_pvi_diff</th>\n",
       "      <th>time_pdp_diff</th>\n",
       "      <th>time_ale_diff</th>\n",
       "    </tr>\n",
       "  </thead>\n",
       "  <tbody>\n",
       "    <tr>\n",
       "      <th>0</th>\n",
       "      <td>0.859001</td>\n",
       "      <td>0.859221</td>\n",
       "      <td>0.489350</td>\n",
       "      <td>0.565312</td>\n",
       "      <td>-0.075962</td>\n",
       "      <td>0.018379</td>\n",
       "      <td>0.018319</td>\n",
       "      <td>0.000059</td>\n",
       "      <td>0.042636</td>\n",
       "      <td>0.035737</td>\n",
       "      <td>...</td>\n",
       "      <td>0.174775</td>\n",
       "      <td>0.608031</td>\n",
       "      <td>0.829646</td>\n",
       "      <td>0.178695</td>\n",
       "      <td>0.650952</td>\n",
       "      <td>6.394824</td>\n",
       "      <td>299.566532</td>\n",
       "      <td>23.260051</td>\n",
       "      <td>3.256193</td>\n",
       "      <td>5.629056</td>\n",
       "    </tr>\n",
       "    <tr>\n",
       "      <th>1</th>\n",
       "      <td>0.881982</td>\n",
       "      <td>0.851700</td>\n",
       "      <td>0.525420</td>\n",
       "      <td>0.538554</td>\n",
       "      <td>-0.013134</td>\n",
       "      <td>0.032865</td>\n",
       "      <td>0.019013</td>\n",
       "      <td>0.013852</td>\n",
       "      <td>0.056293</td>\n",
       "      <td>0.036625</td>\n",
       "      <td>...</td>\n",
       "      <td>0.144024</td>\n",
       "      <td>0.024741</td>\n",
       "      <td>0.176162</td>\n",
       "      <td>0.173933</td>\n",
       "      <td>0.002229</td>\n",
       "      <td>7.136420</td>\n",
       "      <td>300.003500</td>\n",
       "      <td>23.303535</td>\n",
       "      <td>3.256668</td>\n",
       "      <td>5.641767</td>\n",
       "    </tr>\n",
       "    <tr>\n",
       "      <th>2</th>\n",
       "      <td>0.848674</td>\n",
       "      <td>0.818011</td>\n",
       "      <td>0.443404</td>\n",
       "      <td>0.526332</td>\n",
       "      <td>-0.082928</td>\n",
       "      <td>0.052757</td>\n",
       "      <td>0.024952</td>\n",
       "      <td>0.027805</td>\n",
       "      <td>0.061885</td>\n",
       "      <td>0.038990</td>\n",
       "      <td>...</td>\n",
       "      <td>0.228459</td>\n",
       "      <td>0.169034</td>\n",
       "      <td>0.307077</td>\n",
       "      <td>0.246350</td>\n",
       "      <td>0.060727</td>\n",
       "      <td>6.731539</td>\n",
       "      <td>299.157594</td>\n",
       "      <td>23.269840</td>\n",
       "      <td>3.256463</td>\n",
       "      <td>5.622837</td>\n",
       "    </tr>\n",
       "    <tr>\n",
       "      <th>3</th>\n",
       "      <td>0.846623</td>\n",
       "      <td>0.859280</td>\n",
       "      <td>0.638984</td>\n",
       "      <td>0.572218</td>\n",
       "      <td>0.066766</td>\n",
       "      <td>0.017285</td>\n",
       "      <td>0.010820</td>\n",
       "      <td>0.006466</td>\n",
       "      <td>0.050793</td>\n",
       "      <td>0.029462</td>\n",
       "      <td>...</td>\n",
       "      <td>0.252259</td>\n",
       "      <td>0.650434</td>\n",
       "      <td>1.086524</td>\n",
       "      <td>0.222078</td>\n",
       "      <td>0.864446</td>\n",
       "      <td>7.194077</td>\n",
       "      <td>300.794899</td>\n",
       "      <td>23.183545</td>\n",
       "      <td>3.256124</td>\n",
       "      <td>5.613232</td>\n",
       "    </tr>\n",
       "    <tr>\n",
       "      <th>4</th>\n",
       "      <td>0.868621</td>\n",
       "      <td>0.882740</td>\n",
       "      <td>0.517097</td>\n",
       "      <td>0.556118</td>\n",
       "      <td>-0.039021</td>\n",
       "      <td>0.021925</td>\n",
       "      <td>0.016986</td>\n",
       "      <td>0.004939</td>\n",
       "      <td>0.043081</td>\n",
       "      <td>0.035850</td>\n",
       "      <td>...</td>\n",
       "      <td>0.208336</td>\n",
       "      <td>0.271407</td>\n",
       "      <td>0.446289</td>\n",
       "      <td>0.160642</td>\n",
       "      <td>0.285648</td>\n",
       "      <td>7.545860</td>\n",
       "      <td>299.970086</td>\n",
       "      <td>23.285954</td>\n",
       "      <td>3.227366</td>\n",
       "      <td>5.620820</td>\n",
       "    </tr>\n",
       "  </tbody>\n",
       "</table>\n",
       "<p>5 rows × 25 columns</p>\n",
       "</div>"
      ],
      "text/plain": [
       "   model_performance_random  model_performance_compressed  wd_random  \\\n",
       "0                  0.859001                      0.859221   0.489350   \n",
       "1                  0.881982                      0.851700   0.525420   \n",
       "2                  0.848674                      0.818011   0.443404   \n",
       "3                  0.846623                      0.859280   0.638984   \n",
       "4                  0.868621                      0.882740   0.517097   \n",
       "\n",
       "   wd_compressed   wd_diff  svi_random  svi_compressed  svi_diff  \\\n",
       "0       0.565312 -0.075962    0.018379        0.018319  0.000059   \n",
       "1       0.538554 -0.013134    0.032865        0.019013  0.013852   \n",
       "2       0.526332 -0.082928    0.052757        0.024952  0.027805   \n",
       "3       0.572218  0.066766    0.017285        0.010820  0.006466   \n",
       "4       0.556118 -0.039021    0.021925        0.016986  0.004939   \n",
       "\n",
       "   sv_wd_random  sv_wd_compressed  ...  pdp_compressed  pdp_diff  ale_random  \\\n",
       "0      0.042636          0.035737  ...        0.174775  0.608031    0.829646   \n",
       "1      0.056293          0.036625  ...        0.144024  0.024741    0.176162   \n",
       "2      0.061885          0.038990  ...        0.228459  0.169034    0.307077   \n",
       "3      0.050793          0.029462  ...        0.252259  0.650434    1.086524   \n",
       "4      0.043081          0.035850  ...        0.208336  0.271407    0.446289   \n",
       "\n",
       "   ale_compressed  ale_diff   time_kt  time_sv_diff  time_pvi_diff  \\\n",
       "0        0.178695  0.650952  6.394824    299.566532      23.260051   \n",
       "1        0.173933  0.002229  7.136420    300.003500      23.303535   \n",
       "2        0.246350  0.060727  6.731539    299.157594      23.269840   \n",
       "3        0.222078  0.864446  7.194077    300.794899      23.183545   \n",
       "4        0.160642  0.285648  7.545860    299.970086      23.285954   \n",
       "\n",
       "   time_pdp_diff  time_ale_diff  \n",
       "0       3.256193       5.629056  \n",
       "1       3.256668       5.641767  \n",
       "2       3.256463       5.622837  \n",
       "3       3.256124       5.613232  \n",
       "4       3.227366       5.620820  \n",
       "\n",
       "[5 rows x 25 columns]"
      ]
     },
     "execution_count": 10,
     "metadata": {},
     "output_type": "execute_result"
    }
   ],
   "source": [
    "import pandas as pd\n",
    "import numpy as np\n",
    "import matplotlib.pyplot as plt\n",
    "\n",
    "def analyze_1d(x):\n",
    "    _ = plt.hist(x)\n",
    "    print(f'freq diff > 0: {np.mean(x > 0)}')\n",
    "\n",
    "data = pd.read_csv(\"results/exp4_nocat_gaussian_1.csv\")\n",
    "\n",
    "data.head()"
   ]
  },
  {
   "cell_type": "code",
   "execution_count": 11,
   "metadata": {},
   "outputs": [
    {
     "data": {
      "text/html": [
       "<div>\n",
       "<style scoped>\n",
       "    .dataframe tbody tr th:only-of-type {\n",
       "        vertical-align: middle;\n",
       "    }\n",
       "\n",
       "    .dataframe tbody tr th {\n",
       "        vertical-align: top;\n",
       "    }\n",
       "\n",
       "    .dataframe thead th {\n",
       "        text-align: right;\n",
       "    }\n",
       "</style>\n",
       "<table border=\"1\" class=\"dataframe\">\n",
       "  <thead>\n",
       "    <tr style=\"text-align: right;\">\n",
       "      <th></th>\n",
       "      <th>0</th>\n",
       "      <th>1</th>\n",
       "      <th>2</th>\n",
       "      <th>3</th>\n",
       "      <th>4</th>\n",
       "    </tr>\n",
       "  </thead>\n",
       "  <tbody>\n",
       "    <tr>\n",
       "      <th>0</th>\n",
       "      <td>wd</td>\n",
       "      <td>svi</td>\n",
       "      <td>sv_wd</td>\n",
       "      <td>pvi</td>\n",
       "      <td>pdp</td>\n",
       "    </tr>\n",
       "    <tr>\n",
       "      <th>1</th>\n",
       "      <td>0.999859</td>\n",
       "      <td>0.006764</td>\n",
       "      <td>0.004455</td>\n",
       "      <td>0.702709</td>\n",
       "      <td>0.029989</td>\n",
       "    </tr>\n",
       "  </tbody>\n",
       "</table>\n",
       "</div>"
      ],
      "text/plain": [
       "          0         1         2         3         4\n",
       "0        wd       svi     sv_wd       pvi       pdp\n",
       "1  0.999859  0.006764  0.004455  0.702709  0.029989"
      ]
     },
     "execution_count": 11,
     "metadata": {},
     "output_type": "execute_result"
    }
   ],
   "source": [
    "pd.DataFrame(data = [['wd','svi','sv_wd', 'pvi', 'pdp'],[ttest_ind(data[y+'_compressed'], data[y+'_random'], equal_var=False, alternative='less').pvalue for y in ['wd','svi','sv_wd', 'pvi', 'pdp']]])"
   ]
  },
  {
   "cell_type": "code",
   "execution_count": 19,
   "metadata": {},
   "outputs": [
    {
     "name": "stdout",
     "output_type": "stream",
     "text": [
      "0.021251608142589366\n",
      "0.28038357561971045\n",
      "1.1522606567782152\n",
      "freq diff > 0: 0.16\n"
     ]
    },
    {
     "data": {
      "image/png": "[encoded data removed]",
      "text/plain": [
       "<Figure size 432x288 with 1 Axes>"
      ]
     },
     "metadata": {
      "needs_background": "light"
     },
     "output_type": "display_data"
    }
   ],
   "source": [
    "print((data.time_kt / data.time_sv_diff).mean())\n",
    "print((data.time_kt / data.time_pvi_diff).mean())\n",
    "print((data.time_kt / data.time_ale_diff).mean())\n",
    "\n",
    "analyze_1d(data.wd_diff)"
   ]
  },
  {
   "cell_type": "code",
   "execution_count": 20,
   "metadata": {},
   "outputs": [
    {
     "name": "stdout",
     "output_type": "stream",
     "text": [
      "freq diff > 0: 0.8\n"
     ]
    },
    {
     "data": {
      "image/png": "[encoded data removed]",
      "text/plain": [
       "<Figure size 432x288 with 1 Axes>"
      ]
     },
     "metadata": {
      "needs_background": "light"
     },
     "output_type": "display_data"
    }
   ],
   "source": [
    "analyze_1d(data.svi_diff) # 1d"
   ]
  },
  {
   "cell_type": "code",
   "execution_count": 21,
   "metadata": {},
   "outputs": [
    {
     "name": "stdout",
     "output_type": "stream",
     "text": [
      "freq diff > 0: 0.76\n"
     ]
    },
    {
     "data": {
      "image/png": "[encoded data removed]",
      "text/plain": [
       "<Figure size 432x288 with 1 Axes>"
      ]
     },
     "metadata": {
      "needs_background": "light"
     },
     "output_type": "display_data"
    }
   ],
   "source": [
    "analyze_1d(data.sv_wd_diff) # 2d"
   ]
  },
  {
   "cell_type": "code",
   "execution_count": 22,
   "metadata": {},
   "outputs": [
    {
     "name": "stdout",
     "output_type": "stream",
     "text": [
      "freq diff > 0: 0.52\n"
     ]
    },
    {
     "data": {
      "image/png": "[encoded data removed]",
      "text/plain": [
       "<Figure size 432x288 with 1 Axes>"
      ]
     },
     "metadata": {
      "needs_background": "light"
     },
     "output_type": "display_data"
    }
   ],
   "source": [
    "analyze_1d(data.pvi_diff)"
   ]
  },
  {
   "cell_type": "code",
   "execution_count": 23,
   "metadata": {},
   "outputs": [
    {
     "name": "stdout",
     "output_type": "stream",
     "text": [
      "freq diff > 0: 0.6\n"
     ]
    },
    {
     "data": {
      "image/png": "[encoded data removed]",
      "text/plain": [
       "<Figure size 432x288 with 1 Axes>"
      ]
     },
     "metadata": {
      "needs_background": "light"
     },
     "output_type": "display_data"
    }
   ],
   "source": [
    "analyze_1d(data.pdp_diff)"
   ]
  },
  {
   "cell_type": "code",
   "execution_count": 24,
   "metadata": {},
   "outputs": [
    {
     "name": "stdout",
     "output_type": "stream",
     "text": [
      "freq diff > 0: 0.64\n"
     ]
    },
    {
     "data": {
      "image/png": "[encoded data removed]",
      "text/plain": [
       "<Figure size 432x288 with 1 Axes>"
      ]
     },
     "metadata": {
      "needs_background": "light"
     },
     "output_type": "display_data"
    }
   ],
   "source": [
    "analyze_1d(data.ale_diff)"
   ]
  },
  {
   "cell_type": "markdown",
   "metadata": {},
   "source": [
    "## summary"
   ]
  },
  {
   "cell_type": "code",
   "execution_count": 9,
   "metadata": {},
   "outputs": [],
   "source": [
    "import pandas as pd\n",
    "df = pd.read_csv(\"results/exp4_nocat_summary.csv\", index_col=0)"
   ]
  },
  {
   "cell_type": "code",
   "execution_count": 10,
   "metadata": {},
   "outputs": [
    {
     "data": {
      "text/html": [
       "<div>\n",
       "<style scoped>\n",
       "    .dataframe tbody tr th:only-of-type {\n",
       "        vertical-align: middle;\n",
       "    }\n",
       "\n",
       "    .dataframe tbody tr th {\n",
       "        vertical-align: top;\n",
       "    }\n",
       "\n",
       "    .dataframe thead th {\n",
       "        text-align: right;\n",
       "    }\n",
       "</style>\n",
       "<table border=\"1\" class=\"dataframe\">\n",
       "  <thead>\n",
       "    <tr style=\"text-align: right;\">\n",
       "      <th></th>\n",
       "      <th>gaussian_0.5</th>\n",
       "      <th>gaussian_1</th>\n",
       "      <th>gaussian_2</th>\n",
       "      <th>polynomial_3</th>\n",
       "      <th>polynomial_1</th>\n",
       "      <th>polynomial_2</th>\n",
       "    </tr>\n",
       "  </thead>\n",
       "  <tbody>\n",
       "    <tr>\n",
       "      <th>model_performance_random</th>\n",
       "      <td>0.857048</td>\n",
       "      <td>0.857048</td>\n",
       "      <td>0.857048</td>\n",
       "      <td>0.857048</td>\n",
       "      <td>0.857048</td>\n",
       "      <td>0.857048</td>\n",
       "    </tr>\n",
       "    <tr>\n",
       "      <th>model_performance_compressed</th>\n",
       "      <td>0.850109</td>\n",
       "      <td>0.856677</td>\n",
       "      <td>0.853160</td>\n",
       "      <td>0.859026</td>\n",
       "      <td>0.857721</td>\n",
       "      <td>0.859339</td>\n",
       "    </tr>\n",
       "    <tr>\n",
       "      <th>wd_random</th>\n",
       "      <td>0.455530</td>\n",
       "      <td>0.455530</td>\n",
       "      <td>0.455530</td>\n",
       "      <td>0.455530</td>\n",
       "      <td>0.455530</td>\n",
       "      <td>0.455530</td>\n",
       "    </tr>\n",
       "    <tr>\n",
       "      <th>wd_compressed</th>\n",
       "      <td>0.268265</td>\n",
       "      <td>0.543170</td>\n",
       "      <td>0.722507</td>\n",
       "      <td>1.104384</td>\n",
       "      <td>0.324839</td>\n",
       "      <td>0.419008</td>\n",
       "    </tr>\n",
       "    <tr>\n",
       "      <th>wd_diff</th>\n",
       "      <td>0.187266</td>\n",
       "      <td>-0.087640</td>\n",
       "      <td>-0.266976</td>\n",
       "      <td>-0.648854</td>\n",
       "      <td>0.130692</td>\n",
       "      <td>0.036522</td>\n",
       "    </tr>\n",
       "    <tr>\n",
       "      <th>svi_random</th>\n",
       "      <td>0.038053</td>\n",
       "      <td>0.038053</td>\n",
       "      <td>0.038053</td>\n",
       "      <td>0.038053</td>\n",
       "      <td>0.038053</td>\n",
       "      <td>0.038053</td>\n",
       "    </tr>\n",
       "    <tr>\n",
       "      <th>svi_compressed</th>\n",
       "      <td>0.028384</td>\n",
       "      <td>0.026401</td>\n",
       "      <td>0.035655</td>\n",
       "      <td>0.078568</td>\n",
       "      <td>0.036336</td>\n",
       "      <td>0.049282</td>\n",
       "    </tr>\n",
       "    <tr>\n",
       "      <th>svi_diff</th>\n",
       "      <td>0.009670</td>\n",
       "      <td>0.011653</td>\n",
       "      <td>0.002399</td>\n",
       "      <td>-0.040515</td>\n",
       "      <td>0.001717</td>\n",
       "      <td>-0.011228</td>\n",
       "    </tr>\n",
       "    <tr>\n",
       "      <th>sv_wd_random</th>\n",
       "      <td>0.057265</td>\n",
       "      <td>0.057265</td>\n",
       "      <td>0.057265</td>\n",
       "      <td>0.057265</td>\n",
       "      <td>0.057265</td>\n",
       "      <td>0.057265</td>\n",
       "    </tr>\n",
       "    <tr>\n",
       "      <th>sv_wd_compressed</th>\n",
       "      <td>0.048778</td>\n",
       "      <td>0.046059</td>\n",
       "      <td>0.052772</td>\n",
       "      <td>0.100036</td>\n",
       "      <td>0.056216</td>\n",
       "      <td>0.070490</td>\n",
       "    </tr>\n",
       "    <tr>\n",
       "      <th>sv_wd_diff</th>\n",
       "      <td>0.008487</td>\n",
       "      <td>0.011206</td>\n",
       "      <td>0.004493</td>\n",
       "      <td>-0.042771</td>\n",
       "      <td>0.001050</td>\n",
       "      <td>-0.013225</td>\n",
       "    </tr>\n",
       "    <tr>\n",
       "      <th>pvi_random</th>\n",
       "      <td>0.283791</td>\n",
       "      <td>0.283791</td>\n",
       "      <td>0.283791</td>\n",
       "      <td>0.283791</td>\n",
       "      <td>0.283791</td>\n",
       "      <td>0.283791</td>\n",
       "    </tr>\n",
       "    <tr>\n",
       "      <th>pvi_compressed</th>\n",
       "      <td>0.281557</td>\n",
       "      <td>0.310068</td>\n",
       "      <td>0.353682</td>\n",
       "      <td>0.482712</td>\n",
       "      <td>0.348155</td>\n",
       "      <td>0.408495</td>\n",
       "    </tr>\n",
       "    <tr>\n",
       "      <th>pvi_diff</th>\n",
       "      <td>0.002234</td>\n",
       "      <td>-0.026277</td>\n",
       "      <td>-0.069891</td>\n",
       "      <td>-0.198921</td>\n",
       "      <td>-0.064365</td>\n",
       "      <td>-0.124705</td>\n",
       "    </tr>\n",
       "    <tr>\n",
       "      <th>pdp_random</th>\n",
       "      <td>0.425578</td>\n",
       "      <td>0.425578</td>\n",
       "      <td>0.425578</td>\n",
       "      <td>0.425578</td>\n",
       "      <td>0.425578</td>\n",
       "      <td>0.425578</td>\n",
       "    </tr>\n",
       "    <tr>\n",
       "      <th>pdp_compressed</th>\n",
       "      <td>0.371679</td>\n",
       "      <td>0.316173</td>\n",
       "      <td>0.475169</td>\n",
       "      <td>1.859579</td>\n",
       "      <td>0.696541</td>\n",
       "      <td>1.018100</td>\n",
       "    </tr>\n",
       "    <tr>\n",
       "      <th>pdp_diff</th>\n",
       "      <td>0.053899</td>\n",
       "      <td>0.109405</td>\n",
       "      <td>-0.049591</td>\n",
       "      <td>-1.434001</td>\n",
       "      <td>-0.270963</td>\n",
       "      <td>-0.592521</td>\n",
       "    </tr>\n",
       "    <tr>\n",
       "      <th>ale_random</th>\n",
       "      <td>0.455766</td>\n",
       "      <td>0.455766</td>\n",
       "      <td>0.455766</td>\n",
       "      <td>0.455766</td>\n",
       "      <td>0.455766</td>\n",
       "      <td>0.455766</td>\n",
       "    </tr>\n",
       "    <tr>\n",
       "      <th>ale_compressed</th>\n",
       "      <td>0.393833</td>\n",
       "      <td>0.316891</td>\n",
       "      <td>0.491821</td>\n",
       "      <td>1.828191</td>\n",
       "      <td>0.740118</td>\n",
       "      <td>1.034055</td>\n",
       "    </tr>\n",
       "    <tr>\n",
       "      <th>ale_diff</th>\n",
       "      <td>0.061933</td>\n",
       "      <td>0.138875</td>\n",
       "      <td>-0.036055</td>\n",
       "      <td>-1.372426</td>\n",
       "      <td>-0.284353</td>\n",
       "      <td>-0.578289</td>\n",
       "    </tr>\n",
       "    <tr>\n",
       "      <th>time_kt</th>\n",
       "      <td>5.467604</td>\n",
       "      <td>6.390031</td>\n",
       "      <td>7.464483</td>\n",
       "      <td>9.284749</td>\n",
       "      <td>4.497603</td>\n",
       "      <td>4.966675</td>\n",
       "    </tr>\n",
       "    <tr>\n",
       "      <th>time_sv_diff</th>\n",
       "      <td>301.958593</td>\n",
       "      <td>301.230813</td>\n",
       "      <td>299.917840</td>\n",
       "      <td>297.087734</td>\n",
       "      <td>302.299256</td>\n",
       "      <td>302.754940</td>\n",
       "    </tr>\n",
       "    <tr>\n",
       "      <th>time_pvi_diff</th>\n",
       "      <td>22.639496</td>\n",
       "      <td>22.688486</td>\n",
       "      <td>22.867256</td>\n",
       "      <td>22.374453</td>\n",
       "      <td>22.840620</td>\n",
       "      <td>22.568226</td>\n",
       "    </tr>\n",
       "    <tr>\n",
       "      <th>time_pdp_diff</th>\n",
       "      <td>3.235130</td>\n",
       "      <td>3.220754</td>\n",
       "      <td>3.230314</td>\n",
       "      <td>3.210667</td>\n",
       "      <td>3.236448</td>\n",
       "      <td>3.203232</td>\n",
       "    </tr>\n",
       "    <tr>\n",
       "      <th>time_ale_diff</th>\n",
       "      <td>5.599495</td>\n",
       "      <td>5.552834</td>\n",
       "      <td>5.541363</td>\n",
       "      <td>5.497757</td>\n",
       "      <td>5.610386</td>\n",
       "      <td>5.525277</td>\n",
       "    </tr>\n",
       "  </tbody>\n",
       "</table>\n",
       "</div>"
      ],
      "text/plain": [
       "                              gaussian_0.5  gaussian_1  gaussian_2  \\\n",
       "model_performance_random          0.857048    0.857048    0.857048   \n",
       "model_performance_compressed      0.850109    0.856677    0.853160   \n",
       "wd_random                         0.455530    0.455530    0.455530   \n",
       "wd_compressed                     0.268265    0.543170    0.722507   \n",
       "wd_diff                           0.187266   -0.087640   -0.266976   \n",
       "svi_random                        0.038053    0.038053    0.038053   \n",
       "svi_compressed                    0.028384    0.026401    0.035655   \n",
       "svi_diff                          0.009670    0.011653    0.002399   \n",
       "sv_wd_random                      0.057265    0.057265    0.057265   \n",
       "sv_wd_compressed                  0.048778    0.046059    0.052772   \n",
       "sv_wd_diff                        0.008487    0.011206    0.004493   \n",
       "pvi_random                        0.283791    0.283791    0.283791   \n",
       "pvi_compressed                    0.281557    0.310068    0.353682   \n",
       "pvi_diff                          0.002234   -0.026277   -0.069891   \n",
       "pdp_random                        0.425578    0.425578    0.425578   \n",
       "pdp_compressed                    0.371679    0.316173    0.475169   \n",
       "pdp_diff                          0.053899    0.109405   -0.049591   \n",
       "ale_random                        0.455766    0.455766    0.455766   \n",
       "ale_compressed                    0.393833    0.316891    0.491821   \n",
       "ale_diff                          0.061933    0.138875   -0.036055   \n",
       "time_kt                           5.467604    6.390031    7.464483   \n",
       "time_sv_diff                    301.958593  301.230813  299.917840   \n",
       "time_pvi_diff                    22.639496   22.688486   22.867256   \n",
       "time_pdp_diff                     3.235130    3.220754    3.230314   \n",
       "time_ale_diff                     5.599495    5.552834    5.541363   \n",
       "\n",
       "                              polynomial_3  polynomial_1  polynomial_2  \n",
       "model_performance_random          0.857048      0.857048      0.857048  \n",
       "model_performance_compressed      0.859026      0.857721      0.859339  \n",
       "wd_random                         0.455530      0.455530      0.455530  \n",
       "wd_compressed                     1.104384      0.324839      0.419008  \n",
       "wd_diff                          -0.648854      0.130692      0.036522  \n",
       "svi_random                        0.038053      0.038053      0.038053  \n",
       "svi_compressed                    0.078568      0.036336      0.049282  \n",
       "svi_diff                         -0.040515      0.001717     -0.011228  \n",
       "sv_wd_random                      0.057265      0.057265      0.057265  \n",
       "sv_wd_compressed                  0.100036      0.056216      0.070490  \n",
       "sv_wd_diff                       -0.042771      0.001050     -0.013225  \n",
       "pvi_random                        0.283791      0.283791      0.283791  \n",
       "pvi_compressed                    0.482712      0.348155      0.408495  \n",
       "pvi_diff                         -0.198921     -0.064365     -0.124705  \n",
       "pdp_random                        0.425578      0.425578      0.425578  \n",
       "pdp_compressed                    1.859579      0.696541      1.018100  \n",
       "pdp_diff                         -1.434001     -0.270963     -0.592521  \n",
       "ale_random                        0.455766      0.455766      0.455766  \n",
       "ale_compressed                    1.828191      0.740118      1.034055  \n",
       "ale_diff                         -1.372426     -0.284353     -0.578289  \n",
       "time_kt                           9.284749      4.497603      4.966675  \n",
       "time_sv_diff                    297.087734    302.299256    302.754940  \n",
       "time_pvi_diff                    22.374453     22.840620     22.568226  \n",
       "time_pdp_diff                     3.210667      3.236448      3.203232  \n",
       "time_ale_diff                     5.497757      5.610386      5.525277  "
      ]
     },
     "execution_count": 10,
     "metadata": {},
     "output_type": "execute_result"
    }
   ],
   "source": [
    "df"
   ]
  },
  {
   "cell_type": "code",
   "execution_count": 1,
   "metadata": {},
   "outputs": [],
   "source": [
    "import pandas as pd\n",
    "df = pd.read_csv(\"results/exp5_bank_summary.csv\", index_col=0)"
   ]
  },
  {
   "cell_type": "code",
   "execution_count": 2,
   "metadata": {},
   "outputs": [
    {
     "data": {
      "text/html": [
       "<div>\n",
       "<style scoped>\n",
       "    .dataframe tbody tr th:only-of-type {\n",
       "        vertical-align: middle;\n",
       "    }\n",
       "\n",
       "    .dataframe tbody tr th {\n",
       "        vertical-align: top;\n",
       "    }\n",
       "\n",
       "    .dataframe thead th {\n",
       "        text-align: right;\n",
       "    }\n",
       "</style>\n",
       "<table border=\"1\" class=\"dataframe\">\n",
       "  <thead>\n",
       "    <tr style=\"text-align: right;\">\n",
       "      <th></th>\n",
       "      <th>gaussian_0.05</th>\n",
       "      <th>gaussian_0.1</th>\n",
       "      <th>gaussian_0.2</th>\n",
       "      <th>gaussian_0.5</th>\n",
       "      <th>gaussian_0.7</th>\n",
       "      <th>gaussian_1</th>\n",
       "    </tr>\n",
       "  </thead>\n",
       "  <tbody>\n",
       "    <tr>\n",
       "      <th>model_performance_random</th>\n",
       "      <td>0.877665</td>\n",
       "      <td>0.877665</td>\n",
       "      <td>0.877665</td>\n",
       "      <td>0.877665</td>\n",
       "      <td>0.877665</td>\n",
       "      <td>0.877665</td>\n",
       "    </tr>\n",
       "    <tr>\n",
       "      <th>model_performance_compressed</th>\n",
       "      <td>0.845679</td>\n",
       "      <td>0.840340</td>\n",
       "      <td>0.872146</td>\n",
       "      <td>0.903925</td>\n",
       "      <td>0.892224</td>\n",
       "      <td>0.869943</td>\n",
       "    </tr>\n",
       "    <tr>\n",
       "      <th>wd_random</th>\n",
       "      <td>0.507385</td>\n",
       "      <td>0.507385</td>\n",
       "      <td>0.507385</td>\n",
       "      <td>0.507385</td>\n",
       "      <td>0.507385</td>\n",
       "      <td>0.507385</td>\n",
       "    </tr>\n",
       "    <tr>\n",
       "      <th>wd_compressed</th>\n",
       "      <td>0.280111</td>\n",
       "      <td>0.226064</td>\n",
       "      <td>0.201507</td>\n",
       "      <td>0.223132</td>\n",
       "      <td>0.256785</td>\n",
       "      <td>0.258918</td>\n",
       "    </tr>\n",
       "    <tr>\n",
       "      <th>wd_diff</th>\n",
       "      <td>0.227275</td>\n",
       "      <td>0.281322</td>\n",
       "      <td>0.305878</td>\n",
       "      <td>0.284253</td>\n",
       "      <td>0.250600</td>\n",
       "      <td>0.248467</td>\n",
       "    </tr>\n",
       "    <tr>\n",
       "      <th>mmd_linear_random</th>\n",
       "      <td>0.018221</td>\n",
       "      <td>0.018221</td>\n",
       "      <td>0.018221</td>\n",
       "      <td>0.018221</td>\n",
       "      <td>0.018221</td>\n",
       "      <td>0.018221</td>\n",
       "    </tr>\n",
       "    <tr>\n",
       "      <th>mmd_linear_compressed</th>\n",
       "      <td>0.002349</td>\n",
       "      <td>0.002576</td>\n",
       "      <td>0.001653</td>\n",
       "      <td>0.002774</td>\n",
       "      <td>0.006107</td>\n",
       "      <td>0.004951</td>\n",
       "    </tr>\n",
       "    <tr>\n",
       "      <th>mmd_linear_diff</th>\n",
       "      <td>0.015872</td>\n",
       "      <td>0.015645</td>\n",
       "      <td>0.016568</td>\n",
       "      <td>0.015447</td>\n",
       "      <td>0.012114</td>\n",
       "      <td>0.013270</td>\n",
       "    </tr>\n",
       "    <tr>\n",
       "      <th>mmd_gaussian_random</th>\n",
       "      <td>0.001041</td>\n",
       "      <td>0.001533</td>\n",
       "      <td>0.001909</td>\n",
       "      <td>0.002002</td>\n",
       "      <td>0.001963</td>\n",
       "      <td>0.001914</td>\n",
       "    </tr>\n",
       "    <tr>\n",
       "      <th>mmd_gaussian_compressed</th>\n",
       "      <td>0.000093</td>\n",
       "      <td>0.000144</td>\n",
       "      <td>0.000224</td>\n",
       "      <td>0.000418</td>\n",
       "      <td>0.000493</td>\n",
       "      <td>0.000579</td>\n",
       "    </tr>\n",
       "    <tr>\n",
       "      <th>mmd_gaussian_diff</th>\n",
       "      <td>0.000948</td>\n",
       "      <td>0.001389</td>\n",
       "      <td>0.001686</td>\n",
       "      <td>0.001584</td>\n",
       "      <td>0.001470</td>\n",
       "      <td>0.001335</td>\n",
       "    </tr>\n",
       "    <tr>\n",
       "      <th>svi_random</th>\n",
       "      <td>0.143314</td>\n",
       "      <td>0.143314</td>\n",
       "      <td>0.143314</td>\n",
       "      <td>0.143314</td>\n",
       "      <td>0.143314</td>\n",
       "      <td>0.143314</td>\n",
       "    </tr>\n",
       "    <tr>\n",
       "      <th>svi_compressed</th>\n",
       "      <td>0.119206</td>\n",
       "      <td>0.147371</td>\n",
       "      <td>0.230763</td>\n",
       "      <td>0.222906</td>\n",
       "      <td>0.174631</td>\n",
       "      <td>0.082026</td>\n",
       "    </tr>\n",
       "    <tr>\n",
       "      <th>svi_diff</th>\n",
       "      <td>0.024109</td>\n",
       "      <td>-0.004056</td>\n",
       "      <td>-0.087448</td>\n",
       "      <td>-0.079592</td>\n",
       "      <td>-0.031317</td>\n",
       "      <td>0.061288</td>\n",
       "    </tr>\n",
       "    <tr>\n",
       "      <th>sv_wd_random</th>\n",
       "      <td>0.047158</td>\n",
       "      <td>0.047158</td>\n",
       "      <td>0.047158</td>\n",
       "      <td>0.047158</td>\n",
       "      <td>0.047158</td>\n",
       "      <td>0.047158</td>\n",
       "    </tr>\n",
       "    <tr>\n",
       "      <th>sv_wd_compressed</th>\n",
       "      <td>0.044731</td>\n",
       "      <td>0.066852</td>\n",
       "      <td>0.050965</td>\n",
       "      <td>0.061125</td>\n",
       "      <td>0.060654</td>\n",
       "      <td>0.062891</td>\n",
       "    </tr>\n",
       "    <tr>\n",
       "      <th>sv_wd_diff</th>\n",
       "      <td>0.002428</td>\n",
       "      <td>-0.019694</td>\n",
       "      <td>-0.003807</td>\n",
       "      <td>-0.013966</td>\n",
       "      <td>-0.013496</td>\n",
       "      <td>-0.015732</td>\n",
       "    </tr>\n",
       "    <tr>\n",
       "      <th>pvi_random</th>\n",
       "      <td>0.334688</td>\n",
       "      <td>0.334688</td>\n",
       "      <td>0.334688</td>\n",
       "      <td>0.334688</td>\n",
       "      <td>0.334688</td>\n",
       "      <td>0.334688</td>\n",
       "    </tr>\n",
       "    <tr>\n",
       "      <th>pvi_compressed</th>\n",
       "      <td>0.316893</td>\n",
       "      <td>0.231244</td>\n",
       "      <td>0.393448</td>\n",
       "      <td>0.323583</td>\n",
       "      <td>0.435310</td>\n",
       "      <td>0.242167</td>\n",
       "    </tr>\n",
       "    <tr>\n",
       "      <th>pvi_diff</th>\n",
       "      <td>0.017794</td>\n",
       "      <td>0.103444</td>\n",
       "      <td>-0.058760</td>\n",
       "      <td>0.011105</td>\n",
       "      <td>-0.100622</td>\n",
       "      <td>0.092520</td>\n",
       "    </tr>\n",
       "    <tr>\n",
       "      <th>pdp_random</th>\n",
       "      <td>0.402776</td>\n",
       "      <td>0.402776</td>\n",
       "      <td>0.402776</td>\n",
       "      <td>0.402776</td>\n",
       "      <td>0.402776</td>\n",
       "      <td>0.402776</td>\n",
       "    </tr>\n",
       "    <tr>\n",
       "      <th>pdp_compressed</th>\n",
       "      <td>0.209953</td>\n",
       "      <td>0.376348</td>\n",
       "      <td>0.434011</td>\n",
       "      <td>0.715110</td>\n",
       "      <td>0.474010</td>\n",
       "      <td>0.177306</td>\n",
       "    </tr>\n",
       "    <tr>\n",
       "      <th>pdp_diff</th>\n",
       "      <td>0.192823</td>\n",
       "      <td>0.026428</td>\n",
       "      <td>-0.031235</td>\n",
       "      <td>-0.312334</td>\n",
       "      <td>-0.071234</td>\n",
       "      <td>0.225470</td>\n",
       "    </tr>\n",
       "    <tr>\n",
       "      <th>ale_random</th>\n",
       "      <td>0.485688</td>\n",
       "      <td>0.485688</td>\n",
       "      <td>0.485688</td>\n",
       "      <td>0.485688</td>\n",
       "      <td>0.485688</td>\n",
       "      <td>0.485688</td>\n",
       "    </tr>\n",
       "    <tr>\n",
       "      <th>ale_compressed</th>\n",
       "      <td>0.277501</td>\n",
       "      <td>0.445462</td>\n",
       "      <td>0.261897</td>\n",
       "      <td>0.731657</td>\n",
       "      <td>0.447127</td>\n",
       "      <td>0.244676</td>\n",
       "    </tr>\n",
       "    <tr>\n",
       "      <th>ale_diff</th>\n",
       "      <td>0.208187</td>\n",
       "      <td>0.040226</td>\n",
       "      <td>0.223791</td>\n",
       "      <td>-0.245969</td>\n",
       "      <td>0.038562</td>\n",
       "      <td>0.241013</td>\n",
       "    </tr>\n",
       "    <tr>\n",
       "      <th>time_kt</th>\n",
       "      <td>4.248519</td>\n",
       "      <td>4.165595</td>\n",
       "      <td>4.051570</td>\n",
       "      <td>3.945032</td>\n",
       "      <td>5.317047</td>\n",
       "      <td>8.721839</td>\n",
       "    </tr>\n",
       "    <tr>\n",
       "      <th>time_sv_diff</th>\n",
       "      <td>209.024999</td>\n",
       "      <td>210.807026</td>\n",
       "      <td>210.879990</td>\n",
       "      <td>210.914104</td>\n",
       "      <td>205.869443</td>\n",
       "      <td>208.985517</td>\n",
       "    </tr>\n",
       "    <tr>\n",
       "      <th>time_pvi_diff</th>\n",
       "      <td>15.372831</td>\n",
       "      <td>15.371815</td>\n",
       "      <td>15.318613</td>\n",
       "      <td>15.363935</td>\n",
       "      <td>14.736047</td>\n",
       "      <td>14.898530</td>\n",
       "    </tr>\n",
       "    <tr>\n",
       "      <th>time_pdp_diff</th>\n",
       "      <td>2.987103</td>\n",
       "      <td>2.984444</td>\n",
       "      <td>2.983706</td>\n",
       "      <td>2.985049</td>\n",
       "      <td>2.960814</td>\n",
       "      <td>2.962010</td>\n",
       "    </tr>\n",
       "    <tr>\n",
       "      <th>time_ale_diff</th>\n",
       "      <td>5.567094</td>\n",
       "      <td>5.550227</td>\n",
       "      <td>5.553818</td>\n",
       "      <td>5.553287</td>\n",
       "      <td>5.450471</td>\n",
       "      <td>5.534009</td>\n",
       "    </tr>\n",
       "  </tbody>\n",
       "</table>\n",
       "</div>"
      ],
      "text/plain": [
       "                              gaussian_0.05  gaussian_0.1  gaussian_0.2  \\\n",
       "model_performance_random           0.877665      0.877665      0.877665   \n",
       "model_performance_compressed       0.845679      0.840340      0.872146   \n",
       "wd_random                          0.507385      0.507385      0.507385   \n",
       "wd_compressed                      0.280111      0.226064      0.201507   \n",
       "wd_diff                            0.227275      0.281322      0.305878   \n",
       "mmd_linear_random                  0.018221      0.018221      0.018221   \n",
       "mmd_linear_compressed              0.002349      0.002576      0.001653   \n",
       "mmd_linear_diff                    0.015872      0.015645      0.016568   \n",
       "mmd_gaussian_random                0.001041      0.001533      0.001909   \n",
       "mmd_gaussian_compressed            0.000093      0.000144      0.000224   \n",
       "mmd_gaussian_diff                  0.000948      0.001389      0.001686   \n",
       "svi_random                         0.143314      0.143314      0.143314   \n",
       "svi_compressed                     0.119206      0.147371      0.230763   \n",
       "svi_diff                           0.024109     -0.004056     -0.087448   \n",
       "sv_wd_random                       0.047158      0.047158      0.047158   \n",
       "sv_wd_compressed                   0.044731      0.066852      0.050965   \n",
       "sv_wd_diff                         0.002428     -0.019694     -0.003807   \n",
       "pvi_random                         0.334688      0.334688      0.334688   \n",
       "pvi_compressed                     0.316893      0.231244      0.393448   \n",
       "pvi_diff                           0.017794      0.103444     -0.058760   \n",
       "pdp_random                         0.402776      0.402776      0.402776   \n",
       "pdp_compressed                     0.209953      0.376348      0.434011   \n",
       "pdp_diff                           0.192823      0.026428     -0.031235   \n",
       "ale_random                         0.485688      0.485688      0.485688   \n",
       "ale_compressed                     0.277501      0.445462      0.261897   \n",
       "ale_diff                           0.208187      0.040226      0.223791   \n",
       "time_kt                            4.248519      4.165595      4.051570   \n",
       "time_sv_diff                     209.024999    210.807026    210.879990   \n",
       "time_pvi_diff                     15.372831     15.371815     15.318613   \n",
       "time_pdp_diff                      2.987103      2.984444      2.983706   \n",
       "time_ale_diff                      5.567094      5.550227      5.553818   \n",
       "\n",
       "                              gaussian_0.5  gaussian_0.7  gaussian_1  \n",
       "model_performance_random          0.877665      0.877665    0.877665  \n",
       "model_performance_compressed      0.903925      0.892224    0.869943  \n",
       "wd_random                         0.507385      0.507385    0.507385  \n",
       "wd_compressed                     0.223132      0.256785    0.258918  \n",
       "wd_diff                           0.284253      0.250600    0.248467  \n",
       "mmd_linear_random                 0.018221      0.018221    0.018221  \n",
       "mmd_linear_compressed             0.002774      0.006107    0.004951  \n",
       "mmd_linear_diff                   0.015447      0.012114    0.013270  \n",
       "mmd_gaussian_random               0.002002      0.001963    0.001914  \n",
       "mmd_gaussian_compressed           0.000418      0.000493    0.000579  \n",
       "mmd_gaussian_diff                 0.001584      0.001470    0.001335  \n",
       "svi_random                        0.143314      0.143314    0.143314  \n",
       "svi_compressed                    0.222906      0.174631    0.082026  \n",
       "svi_diff                         -0.079592     -0.031317    0.061288  \n",
       "sv_wd_random                      0.047158      0.047158    0.047158  \n",
       "sv_wd_compressed                  0.061125      0.060654    0.062891  \n",
       "sv_wd_diff                       -0.013966     -0.013496   -0.015732  \n",
       "pvi_random                        0.334688      0.334688    0.334688  \n",
       "pvi_compressed                    0.323583      0.435310    0.242167  \n",
       "pvi_diff                          0.011105     -0.100622    0.092520  \n",
       "pdp_random                        0.402776      0.402776    0.402776  \n",
       "pdp_compressed                    0.715110      0.474010    0.177306  \n",
       "pdp_diff                         -0.312334     -0.071234    0.225470  \n",
       "ale_random                        0.485688      0.485688    0.485688  \n",
       "ale_compressed                    0.731657      0.447127    0.244676  \n",
       "ale_diff                         -0.245969      0.038562    0.241013  \n",
       "time_kt                           3.945032      5.317047    8.721839  \n",
       "time_sv_diff                    210.914104    205.869443  208.985517  \n",
       "time_pvi_diff                    15.363935     14.736047   14.898530  \n",
       "time_pdp_diff                     2.985049      2.960814    2.962010  \n",
       "time_ale_diff                     5.553287      5.450471    5.534009  "
      ]
     },
     "execution_count": 2,
     "metadata": {},
     "output_type": "execute_result"
    }
   ],
   "source": [
    "df"
   ]
  }
 ],
 "metadata": {
  "kernelspec": {
   "display_name": "Python 3.10.2 64-bit",
   "language": "python",
   "name": "python3"
  },
  "language_info": {
   "codemirror_mode": {
    "name": "ipython",
    "version": 3
   },
   "file_extension": ".py",
   "mimetype": "text/x-python",
   "name": "python",
   "nbconvert_exporter": "python",
   "pygments_lexer": "ipython3",
   "version": "3.10.2"
  },
  "orig_nbformat": 4,
  "vscode": {
   "interpreter": {
    "hash": "8d54a113c73c7cd2d522d52b538c9e8d75641ec0b9017fac754b3c03c32c6a70"
   }
  }
 },
 "nbformat": 4,
 "nbformat_minor": 2
}
